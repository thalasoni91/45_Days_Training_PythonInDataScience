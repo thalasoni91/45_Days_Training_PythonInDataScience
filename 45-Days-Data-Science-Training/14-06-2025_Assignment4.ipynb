{
 "cells": [
  {
   "cell_type": "markdown",
   "id": "dad39aac",
   "metadata": {},
   "source": [
    "# Python Assignment: Functions\n",
    "---"
   ]
  },
  {
   "cell_type": "markdown",
   "id": "021f3df4",
   "metadata": {},
   "source": [
    "#### 1.  What are default arguments in Python functions, and how do they differ from required arguments? What happens when you pass `None` as a value to a parameter with a default argument? \n",
    "   -  Coding Challenge: Write a function `greet` that takes a name as a required argument and a greeting message as an optional argument. If no greeting is provided, it should default to \"Hello\".\n",
    "   \n",
    "Default arguments provide default values if none are supplied. Passing `None` explicitly overrides the default."
   ]
  },
  {
   "cell_type": "code",
   "execution_count": 144,
   "id": "5794ad40",
   "metadata": {},
   "outputs": [
    {
     "name": "stdout",
     "output_type": "stream",
     "text": [
      "Hello, Alice!\n",
      "Hi, Bob!\n"
     ]
    }
   ],
   "source": [
    "def greet(name, message=\"Hello\"):\n",
    "    return f\"{message}, {name}!\"\n",
    "\n",
    "print(greet(\"Alice\"))\n",
    "print(greet(\"Bob\", \"Hi\"))"
   ]
  },
  {
   "cell_type": "markdown",
   "id": "71916144",
   "metadata": {},
   "source": [
    "#### 2.  Explain the concept of variable-length arguments in Python. How do `*args` and ` kwargs` work, and how can they be used together in a function? \n",
    "   -  Coding Challenge: Write a function `summarize` that takes any number of numerical arguments and returns their sum. The function should also accept optional keyword arguments that specify whether the result should be squared or negated.\n",
    "\n",
    "`*args` collects positional arguments, `**kwargs` collects keyword arguments."
   ]
  },
  {
   "cell_type": "code",
   "execution_count": 145,
   "id": "e7e4f4a4",
   "metadata": {},
   "outputs": [
    {
     "name": "stdout",
     "output_type": "stream",
     "text": [
      "36\n"
     ]
    }
   ],
   "source": [
    "def summarize(*args, **kwargs):\n",
    "    result = sum(args)\n",
    "    if kwargs.get(\"square\"):\n",
    "        result **= 2\n",
    "    if kwargs.get(\"negate\"):\n",
    "        result = -result\n",
    "    return result\n",
    "\n",
    "print(summarize(1, 2, 3, square=True))"
   ]
  },
  {
   "cell_type": "markdown",
   "id": "ddb3b24b",
   "metadata": {},
   "source": [
    "#### 3.  What is the difference between pass-by-value and pass-by-reference? How does Python handle argument passing in functions? \n",
    "   -  Coding Challenge: Write a function that takes a list as an argument and modifies it by appending a new item. Demonstrate how changes to the list inside the function affect the list outside the function.\n",
    "   \n",
    "Mutable objects like lists are passed by reference, so changes inside functions affect them."
   ]
  },
  {
   "cell_type": "code",
   "execution_count": 146,
   "id": "814c44fb",
   "metadata": {},
   "outputs": [
    {
     "name": "stdout",
     "output_type": "stream",
     "text": [
      "[1, 2, 'new item']\n"
     ]
    }
   ],
   "source": [
    "def modify_list(lst):\n",
    "    lst.append(\"new item\")\n",
    "\n",
    "my_list = [1, 2]\n",
    "modify_list(my_list)\n",
    "print(my_list)"
   ]
  },
  {
   "cell_type": "markdown",
   "id": "563578a4",
   "metadata": {},
   "source": [
    "#### 4.  How do decorators work in Python? Explain with an example of a simple decorator that logs the execution time of a function. \n",
    "   -  Coding Challenge: Write a decorator `@timing` that prints the time taken by a function to execute.\n",
    "\n",
    "Decorators wrap functions and can add functionality like timing."
   ]
  },
  {
   "cell_type": "code",
   "execution_count": 147,
   "id": "9f3167fc",
   "metadata": {},
   "outputs": [
    {
     "name": "stdout",
     "output_type": "stream",
     "text": [
      "Execution time: 1.00083 sec\n"
     ]
    }
   ],
   "source": [
    "import time\n",
    "\n",
    "def timing(func):\n",
    "    def wrapper(*args, **kwargs):\n",
    "        start = time.time()\n",
    "        result = func(*args, **kwargs)\n",
    "        end = time.time()\n",
    "        print(f\"Execution time: {end - start:.5f} sec\")\n",
    "        return result\n",
    "    return wrapper\n",
    "\n",
    "@timing\n",
    "def slow_function():\n",
    "    time.sleep(1)\n",
    "\n",
    "slow_function()"
   ]
  },
  {
   "cell_type": "markdown",
   "id": "b1d6ec11",
   "metadata": {},
   "source": [
    "## GENERATORS"
   ]
  },
  {
   "cell_type": "markdown",
   "id": "4ce49575",
   "metadata": {},
   "source": [
    "#### 5.  What are generators in Python, and how do they differ from regular functions in terms of memory usage and performance? \n",
    "   -  Coding Challenge: Write a generator function `countdown(n)` that yields numbers from `n` down to 1.\n",
    "\n",
    "Generators yield values lazily, using less memory than returning lists."
   ]
  },
  {
   "cell_type": "code",
   "execution_count": 148,
   "id": "2b73dc0a",
   "metadata": {},
   "outputs": [
    {
     "name": "stdout",
     "output_type": "stream",
     "text": [
      "5\n",
      "4\n",
      "3\n",
      "2\n",
      "1\n"
     ]
    }
   ],
   "source": [
    "def countdown(n):\n",
    "    while n > 0:\n",
    "        yield n\n",
    "        n -= 1\n",
    "\n",
    "for num in countdown(5):\n",
    "    print(num)"
   ]
  },
  {
   "cell_type": "markdown",
   "id": "4b4076cc",
   "metadata": {},
   "source": [
    "#### 6.  Explain the role of the `yield` statement in Python generators. How does it differ from the `return` statement in regular functions? \n",
    "   -  Coding Challenge: Write a generator `fibonacci()` that yields the Fibonacci sequence indefinitely.\n",
    "\n",
    "`yield` returns a value and suspends function state for resumption."
   ]
  },
  {
   "cell_type": "code",
   "execution_count": 149,
   "id": "dfae2d3b",
   "metadata": {},
   "outputs": [
    {
     "name": "stdout",
     "output_type": "stream",
     "text": [
      "0\n",
      "1\n",
      "1\n",
      "2\n",
      "3\n"
     ]
    }
   ],
   "source": [
    "def fibonacci():\n",
    "    a, b = 0, 1\n",
    "    while True:\n",
    "        yield a\n",
    "        a, b = b, a + b\n",
    "\n",
    "fib = fibonacci()\n",
    "for _ in range(5):\n",
    "    print(next(fib))"
   ]
  },
  {
   "cell_type": "markdown",
   "id": "eeb13c36",
   "metadata": {},
   "source": [
    "#### 7.  How can you use generators to handle large datasets or streams of data efficiently? Provide an example. \n",
    "   -  Coding Challenge: Write a generator `file_reader(file_name)` that reads a large text file line by line and yields each line.\n",
    "\n",
    "Generators allow efficient streaming of data without loading the entire file."
   ]
  },
  {
   "cell_type": "code",
   "execution_count": 150,
   "id": "b1d7f68c",
   "metadata": {},
   "outputs": [],
   "source": [
    "def file_reader(file_name):\n",
    "    with open(file_name, 'r') as file:\n",
    "        for line in file:\n",
    "            yield line.strip()\n",
    "\n",
    "# Example usage:\n",
    "# for line in file_reader('large.txt'):\n",
    "#     print(line)"
   ]
  },
  {
   "cell_type": "markdown",
   "id": "ac2fd3d6",
   "metadata": {},
   "source": [
    "#### 8.  What are generator expressions, and how do they differ from list comprehensions? Provide an example where a generator expression would be more efficient than a list comprehension. \n",
    "   -  Coding Challenge: Convert the following list comprehension into a generator expression:\n",
    "     ```python\n",
    "     squares = [x **2 for x in range(1000000)]\n",
    "     ```\n",
    "\n",
    "Generators use parentheses and are memory-efficient.\n",
    "Useful for large sequences."
   ]
  },
  {
   "cell_type": "code",
   "execution_count": 151,
   "id": "7af67feb",
   "metadata": {},
   "outputs": [
    {
     "name": "stdout",
     "output_type": "stream",
     "text": [
      "0\n"
     ]
    }
   ],
   "source": [
    "squares = (x**2 for x in range(1000000))\n",
    "print(next(squares))"
   ]
  },
  {
   "cell_type": "markdown",
   "id": "a72db9ae",
   "metadata": {},
   "source": [
    "## LAMBDA FUNCTIONS"
   ]
  },
  {
   "cell_type": "markdown",
   "id": "02dfc401",
   "metadata": {},
   "source": [
    "#### 9.  What are lambda functions in Python, and when should they be used over regular functions? What are some limitations of lambda functions? \n",
    "   -  Coding Challenge: Write a lambda function that takes two arguments and returns their product. Then, use this lambda function to multiply elements of two lists pairwise.\n",
    "\n",
    "Lambdas are anonymous functions suitable for short tasks.\n",
    "They lack statements and multiple expressions."
   ]
  },
  {
   "cell_type": "code",
   "execution_count": 152,
   "id": "8c26a631",
   "metadata": {},
   "outputs": [
    {
     "name": "stdout",
     "output_type": "stream",
     "text": [
      "[4, 10, 18]\n"
     ]
    }
   ],
   "source": [
    "multiply = lambda a, b: a * b\n",
    "\n",
    "list1 = [1, 2, 3]\n",
    "list2 = [4, 5, 6]\n",
    "result = list(map(lambda x, y: x * y, list1, list2))\n",
    "print(result)"
   ]
  },
  {
   "cell_type": "markdown",
   "id": "f4042656",
   "metadata": {},
   "source": [
    "#### 10.  How can lambda functions be used with Python's built-in functions like `map()`, `filter()`, and `reduce()`? Provide examples of each. \n",
    "    -  Coding Challenge: Use `map()` with a lambda function to convert a list of strings to uppercase. Use `filter()` with a lambda function to filter out even numbers from a list. Finally, use `reduce()` with a lambda function to find the product of all numbers in a list.\n",
    "\n",
    "Lambdas work with built-in functions for concise transformations."
   ]
  },
  {
   "cell_type": "code",
   "execution_count": 153,
   "id": "8eb76a6e",
   "metadata": {},
   "outputs": [
    {
     "name": "stdout",
     "output_type": "stream",
     "text": [
      "['A', 'B', 'C']\n",
      "[1, 3, 5]\n",
      "24\n"
     ]
    }
   ],
   "source": [
    "from functools import reduce\n",
    "\n",
    "# map\n",
    "strings = [\"a\", \"b\", \"c\"]\n",
    "print(list(map(lambda s: s.upper(), strings)))\n",
    "\n",
    "# filter\n",
    "nums = [1, 2, 3, 4, 5, 6]\n",
    "print(list(filter(lambda x: x % 2 != 0, nums)))\n",
    "\n",
    "# reduce\n",
    "print(reduce(lambda x, y: x * y, [1, 2, 3, 4]))"
   ]
  }
 ],
 "metadata": {
  "kernelspec": {
   "display_name": "Python 3",
   "language": "python",
   "name": "python3"
  },
  "language_info": {
   "codemirror_mode": {
    "name": "ipython",
    "version": 3
   },
   "file_extension": ".py",
   "mimetype": "text/x-python",
   "name": "python",
   "nbconvert_exporter": "python",
   "pygments_lexer": "ipython3",
   "version": "3.11.9"
  }
 },
 "nbformat": 4,
 "nbformat_minor": 5
}
