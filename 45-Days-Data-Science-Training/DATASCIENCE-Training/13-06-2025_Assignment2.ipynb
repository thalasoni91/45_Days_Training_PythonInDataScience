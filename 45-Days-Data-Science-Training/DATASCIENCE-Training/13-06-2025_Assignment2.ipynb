{
 "cells": [
  {
   "cell_type": "markdown",
   "id": "3be9ec11",
   "metadata": {},
   "source": [
    "# Python Assignment: Loops and Conditional Statements\n",
    "---"
   ]
  },
  {
   "cell_type": "markdown",
   "id": "dd1f3c90",
   "metadata": {},
   "source": [
    "#### How do `if-elif-else` statements work in Python? Provide an example where multiple conditions must be checked and explain the flow of control.\n",
    "   Coding Challenge:Write a function that takes a number as input and returns \"Positive\", \"Negative\", or \"Zero\" based on the input value.\n",
    "\n",
    "The `if-elif-else` structure allows checking multiple conditions.\n",
    "\n",
    "- `if`: executes block if condition is true\n",
    "\n",
    "- `elif`: checked if previous conditions were false\n",
    "\n",
    "- `else`: executes if all above conditions are false"
   ]
  },
  {
   "cell_type": "code",
   "execution_count": 11,
   "id": "8e92764e",
   "metadata": {},
   "outputs": [
    {
     "data": {
      "text/plain": [
       "'Positive'"
      ]
     },
     "execution_count": 11,
     "metadata": {},
     "output_type": "execute_result"
    }
   ],
   "source": [
    "def check_number(num):\n",
    "    if num > 0:\n",
    "        return \"Positive\"\n",
    "    elif num < 0:\n",
    "        return \"Negative\"\n",
    "    else:\n",
    "        return \"Zero\"\n",
    "\n",
    "check_number(10)"
   ]
  },
  {
   "cell_type": "markdown",
   "id": "535da98a",
   "metadata": {},
   "source": [
    "#### 2.What is the difference between `for` loops and `while` loops in terms of conditional checks? When would you prefer one over the other? \n",
    "   -  Coding Challenge:  Write a Python script to print all prime numbers between 1 and 100 using a `for` loop.\n",
    "\n",
    "- Use `for` when the number of iterations is known.\n",
    "\n",
    "- Use `while` for indefinite loops until a condition is met."
   ]
  },
  {
   "cell_type": "code",
   "execution_count": 12,
   "id": "718de919",
   "metadata": {},
   "outputs": [
    {
     "name": "stdout",
     "output_type": "stream",
     "text": [
      "2 3 5 7 11 13 17 19 23 29 31 37 41 43 47 53 59 61 67 71 73 79 83 89 97 "
     ]
    }
   ],
   "source": [
    "for num in range(2, 101):\n",
    "    is_prime = True\n",
    "    for i in range(2, int(num ** 0.5) + 1):\n",
    "        if num % i == 0:\n",
    "            is_prime = False\n",
    "            break\n",
    "    if is_prime:\n",
    "        print(num, end=\" \")"
   ]
  },
  {
   "cell_type": "markdown",
   "id": "f8a24afe",
   "metadata": {},
   "source": [
    "#### 3.Explain how nested `if` statements work in Python. How can you avoid deep nesting to make your code more readable? \n",
    "   -  Coding Challenge:  Write a function that takes three numbers as input and returns the largest of the three using nested `if` statements.\n",
    "   \n",
    "Avoid deep nesting using return statements or logical operators."
   ]
  },
  {
   "cell_type": "code",
   "execution_count": 13,
   "id": "a9a0ce42",
   "metadata": {},
   "outputs": [
    {
     "data": {
      "text/plain": [
       "9"
      ]
     },
     "execution_count": 13,
     "metadata": {},
     "output_type": "execute_result"
    }
   ],
   "source": [
    "def largest_of_three(a, b, c):\n",
    "    if a >= b:\n",
    "        if a >= c:\n",
    "            return a\n",
    "        else:\n",
    "            return c\n",
    "    else:\n",
    "        if b >= c:\n",
    "            return b\n",
    "        else:\n",
    "            return c\n",
    "\n",
    "largest_of_three(4, 9, 2)"
   ]
  },
  {
   "cell_type": "markdown",
   "id": "a782dd40",
   "metadata": {},
   "source": [
    "#### 4.What are the potential risks of using `break` in loops? How does it affect loop execution and what alternatives can you use? \n",
    "   -  Coding Challenge:  Write a Python program that reads numbers from the user until they input a negative number. The program should then print the sum of all positive numbers entered.\n",
    "\n",
    "`break` exits loops early, which can skip essential steps or conditions."
   ]
  },
  {
   "cell_type": "code",
   "execution_count": 14,
   "id": "3fb7a090",
   "metadata": {},
   "outputs": [],
   "source": [
    "def sum_positive():\n",
    "    total = 0\n",
    "    while True:\n",
    "        num = int(input(\"Enter a number: \"))\n",
    "        if num < 0:\n",
    "            break\n",
    "        total += num\n",
    "    print(\"Sum of positive numbers:\", total)"
   ]
  },
  {
   "cell_type": "markdown",
   "id": "2883bef7",
   "metadata": {},
   "source": [
    "#### 5.  How does the `else` clause in a loop work, and how does it differ from the `else` in conditional statements? \n",
    "   -  Coding Challenge:  Write a function that searches for a specific element in a list using a `for` loop. If the element is found, return its index; if not, return -1 using the `else` clause in the loop.\n",
    "\n",
    "`else` runs after loop completes naturally (not via `break`)."
   ]
  },
  {
   "cell_type": "code",
   "execution_count": 15,
   "id": "9eeb76ee",
   "metadata": {},
   "outputs": [
    {
     "data": {
      "text/plain": [
       "1"
      ]
     },
     "execution_count": 15,
     "metadata": {},
     "output_type": "execute_result"
    }
   ],
   "source": [
    "def search_element(lst, target):\n",
    "    for i in range(len(lst)):\n",
    "        if lst[i] == target:\n",
    "            return i\n",
    "    else:\n",
    "        return -1\n",
    "\n",
    "search_element([10, 20, 30], 20)"
   ]
  },
  {
   "cell_type": "markdown",
   "id": "637cb112",
   "metadata": {},
   "source": [
    "#### 6.  What is a common pitfall when using floating-point numbers in conditional statements? How can you avoid it? \n",
    "   -  Coding Challenge:  Write a Python function that compares two floating-point numbers and returns `True` if they are approximately equal, considering a small tolerance value.\n",
    "   \n",
    "Use tolerance to avoid precision issues when comparing floats."
   ]
  },
  {
   "cell_type": "code",
   "execution_count": 16,
   "id": "e8c32b0d",
   "metadata": {},
   "outputs": [
    {
     "data": {
      "text/plain": [
       "True"
      ]
     },
     "execution_count": 16,
     "metadata": {},
     "output_type": "execute_result"
    }
   ],
   "source": [
    "def approx_equal(a, b, tolerance=1e-9):\n",
    "    return abs(a - b) < tolerance\n",
    "\n",
    "approx_equal(0.1 + 0.2, 0.3)"
   ]
  },
  {
   "cell_type": "markdown",
   "id": "f35232ce",
   "metadata": {},
   "source": [
    "#### 7.  How can you combine `for` loops and `if` statements to filter and process data in Python? \n",
    "   -  Coding Challenge:  Given a list of integers, write a Python program that uses a `for` loop and `if` statements to create a new list containing only the even numbers.\n",
    "   \n",
    "Use conditionals inside loops to create filtered lists."
   ]
  },
  {
   "cell_type": "code",
   "execution_count": 17,
   "id": "12e82753",
   "metadata": {},
   "outputs": [
    {
     "data": {
      "text/plain": [
       "[2, 4, 6]"
      ]
     },
     "execution_count": 17,
     "metadata": {},
     "output_type": "execute_result"
    }
   ],
   "source": [
    "def filter_even(numbers):\n",
    "    even_numbers = []\n",
    "    for num in numbers:\n",
    "        if num % 2 == 0:\n",
    "            even_numbers.append(num)\n",
    "    return even_numbers\n",
    "\n",
    "filter_even([1, 2, 3, 4, 5, 6])"
   ]
  },
  {
   "cell_type": "markdown",
   "id": "5b13f646",
   "metadata": {},
   "source": [
    "#### 8.  Discuss the concept of short-circuit evaluation in Python. How does it affect the performance of conditional statements? \n",
    "   -  Coding Challenge:  Write a function that takes three boolean values and returns `True` if at least two of them are `True`, using short-circuit evaluation.\n",
    "   \n",
    "Logical operations stop as soon as result is known, improving performance."
   ]
  },
  {
   "cell_type": "code",
   "execution_count": 18,
   "id": "d79bde54",
   "metadata": {},
   "outputs": [
    {
     "data": {
      "text/plain": [
       "True"
      ]
     },
     "execution_count": 18,
     "metadata": {},
     "output_type": "execute_result"
    }
   ],
   "source": [
    "def at_least_two_true(a, b, c):\n",
    "    return (a and b) or (a and c) or (b and c)\n",
    "\n",
    "at_least_two_true(True, False, True)"
   ]
  },
  {
   "cell_type": "markdown",
   "id": "1370aa6a",
   "metadata": {},
   "source": [
    "#### 9.  Explain how the `continue` statement works in a loop. What are some scenarios where using `continue` is more beneficial than restructuring the loop? \n",
    "   -  Coding Challenge:  Write a Python program that iterates through a list of numbers and prints only those numbers that are divisible by 3, using the `continue` statement.\n",
    "   \n",
    "`continue` skips the rest of the loop for current iteration."
   ]
  },
  {
   "cell_type": "code",
   "execution_count": 19,
   "id": "37680e6f",
   "metadata": {},
   "outputs": [
    {
     "name": "stdout",
     "output_type": "stream",
     "text": [
      "3\n",
      "6\n",
      "9\n"
     ]
    }
   ],
   "source": [
    "def print_divisible_by_3(lst):\n",
    "    for num in lst:\n",
    "        if num % 3 != 0:\n",
    "            continue\n",
    "        print(num)\n",
    "\n",
    "print_divisible_by_3([1, 3, 4, 6, 9, 10])"
   ]
  },
  {
   "cell_type": "markdown",
   "id": "4c7382aa",
   "metadata": {},
   "source": [
    "#### 10.  How can you use list comprehensions in combination with conditional statements to make your code more concise? \n",
    "    -  Coding Challenge:  Write a list comprehension that generates a list of squares of all even numbers between 1 and 20.\n",
    "List comprehensions can filter and transform data concisely."
   ]
  },
  {
   "cell_type": "code",
   "execution_count": 20,
   "id": "2f56806d",
   "metadata": {},
   "outputs": [
    {
     "name": "stdout",
     "output_type": "stream",
     "text": [
      "[4, 16, 36, 64, 100, 144, 196, 256, 324, 400]\n"
     ]
    }
   ],
   "source": [
    "squares = [x**2 for x in range(1, 21) if x % 2 == 0]\n",
    "print(squares)"
   ]
  }
 ],
 "metadata": {
  "kernelspec": {
   "display_name": "Python 3",
   "language": "python",
   "name": "python3"
  },
  "language_info": {
   "codemirror_mode": {
    "name": "ipython",
    "version": 3
   },
   "file_extension": ".py",
   "mimetype": "text/x-python",
   "name": "python",
   "nbconvert_exporter": "python",
   "pygments_lexer": "ipython3",
   "version": "3.11.9"
  }
 },
 "nbformat": 4,
 "nbformat_minor": 5
}
