{
 "cells": [
  {
   "cell_type": "markdown",
   "id": "c769eb45",
   "metadata": {},
   "source": [
    "# Python Assignment: Data types and Operators\n",
    "---"
   ]
  },
  {
   "cell_type": "markdown",
   "id": "a824b3e9",
   "metadata": {},
   "source": [
    "#### 1.How do lists and tuples differ in terms of mutability and performance? When would you choose one over the other?\n",
    "\n",
    "Mutability:    ----    List is mutable (can change).    ----    Tuple is immutable (cannot change).\n",
    "\n",
    "Performance:    ----    Tuples are generally faster and consume less memory.\n",
    "\n",
    "Use Cases:    ----    Use a list when you need to modify data.    ----    Use a tuple when data should remain constant."
   ]
  },
  {
   "cell_type": "code",
   "execution_count": 1,
   "id": "88921de0",
   "metadata": {},
   "outputs": [
    {
     "name": "stdout",
     "output_type": "stream",
     "text": [
      "[1, 2, 'hello', True, 33.23, 'hello']\n",
      "('red', 'blue', 'green', 'black', 1, 2, 3, 3)\n"
     ]
    }
   ],
   "source": [
    "# List\n",
    "lst = [1, 2, \"hello\", True, 33.23, \"hello\"]\n",
    "print(lst)\n",
    "\n",
    "# Tuple\n",
    "tpl = (\"red\", \"blue\", \"green\", \"black\", 1, 2, 3, 3)\n",
    "print(tpl)"
   ]
  },
  {
   "cell_type": "markdown",
   "id": "2f57d658",
   "metadata": {},
   "source": [
    "#### 2.Explain how Python handles type conversion between different data types, such as between integers and floats or between strings and lists.\n",
    "\n"
   ]
  },
  {
   "cell_type": "code",
   "execution_count": 2,
   "id": "9be60a9d",
   "metadata": {},
   "outputs": [
    {
     "name": "stdout",
     "output_type": "stream",
     "text": [
      "7.0\n",
      "['h', 'e', 'l', 'l', 'o']\n"
     ]
    }
   ],
   "source": [
    "#integer to float\n",
    "x = 5  \n",
    "y = 2.0 \n",
    "z = x + y \n",
    "print(z) \n",
    "\n",
    "#string to a tuple\n",
    "strng = \"hello\"\n",
    "lst = list(strng)\n",
    "print(lst)"
   ]
  },
  {
   "cell_type": "markdown",
   "id": "ea07bc8d",
   "metadata": {},
   "source": [
    "#### 3.What are the key differences between Python’s `list`, `set`, and `dictionary` data types? Provide examples of scenarios where each would be the most appropriate choice.\n",
    "\n",
    "LIST: ordered  --  duplicates allowed  --  index-based access  --  mutable\n",
    "\n",
    "SET: unordered  --  duplicates not allowed  --  not indexable access  --  mutable\n",
    "\n",
    "DICTIONARY: ordered  --  keys must be unique  --  key based access  --  mutable"
   ]
  },
  {
   "cell_type": "code",
   "execution_count": 3,
   "id": "1207719d",
   "metadata": {},
   "outputs": [
    {
     "name": "stdout",
     "output_type": "stream",
     "text": [
      "['Alice', 'Bob', 'Alice']\n",
      "{101, 102, 103}\n",
      "{'name': 'Alice', 'age': 20}\n"
     ]
    }
   ],
   "source": [
    "# List\n",
    "students = [\"Alice\", \"Bob\", \"Alice\"]\n",
    "print(students)\n",
    "\n",
    "# Set\n",
    "unique_ids = {101, 102, 103}\n",
    "print(unique_ids)\n",
    "\n",
    "# Dictionary\n",
    "student_data = {\"name\": \"Alice\", \"age\": 20}\n",
    "print(student_data)"
   ]
  },
  {
   "cell_type": "markdown",
   "id": "0a6ee391",
   "metadata": {},
   "source": [
    "#### 4.Discuss the role of the `__repr__` and `__str__` methods in custom data types. How do they differ, and when should you implement them?"
   ]
  },
  {
   "cell_type": "code",
   "execution_count": 4,
   "id": "b06e2218",
   "metadata": {},
   "outputs": [
    {
     "ename": "NameError",
     "evalue": "name 'str' is not defined",
     "output_type": "error",
     "traceback": [
      "\u001b[31m---------------------------------------------------------------------------\u001b[39m",
      "\u001b[31mNameError\u001b[39m                                 Traceback (most recent call last)",
      "\u001b[36mCell\u001b[39m\u001b[36m \u001b[39m\u001b[32mIn[4]\u001b[39m\u001b[32m, line 1\u001b[39m\n\u001b[32m----> \u001b[39m\u001b[32m1\u001b[39m \u001b[38;5;28;01mdel\u001b[39;00m \u001b[38;5;28;43mstr\u001b[39;49m\n",
      "\u001b[31mNameError\u001b[39m: name 'str' is not defined"
     ]
    }
   ],
   "source": [
    "del str"
   ]
  },
  {
   "cell_type": "code",
   "execution_count": null,
   "id": "ef9c2455",
   "metadata": {},
   "outputs": [
    {
     "name": "stdout",
     "output_type": "stream",
     "text": [
      "Student Name: Alice\n",
      "Student('Alice')\n"
     ]
    }
   ],
   "source": [
    "class Student:\n",
    "    def __init__(self, name):\n",
    "        self.name = name\n",
    "\n",
    "    def __str__(self):\n",
    "        return f\"Student Name: {self.name}\"\n",
    "\n",
    "    def __repr__(self):\n",
    "        return f\"Student('{self.name}')\"\n",
    "\n",
    "s = Student(\"Alice\")\n",
    "print(str(s))\n",
    "print(repr(s)) "
   ]
  },
  {
   "cell_type": "markdown",
   "id": "5245b2a3",
   "metadata": {},
   "source": [
    "#### 5.How does Python handle large integers? Explain the difference between `int` in Python 2 and Python 3.\n",
    "\n",
    "Python uses arbitrary-precision integers.\n",
    "\n",
    "Python 2 has int and long types.\n",
    "\n",
    "Python 3 has only int type."
   ]
  },
  {
   "cell_type": "code",
   "execution_count": null,
   "id": "2b7fa8a0",
   "metadata": {},
   "outputs": [
    {
     "name": "stdout",
     "output_type": "stream",
     "text": [
      "<class 'int'>\n"
     ]
    }
   ],
   "source": [
    "# Python 3\n",
    "n = 9999999999999999999999999999\n",
    "print(type(n))  # <class 'int'>"
   ]
  },
  {
   "cell_type": "markdown",
   "id": "b1440bd2",
   "metadata": {},
   "source": [
    "#### 6.What is the difference between the `+=` operator and the `+` operator in Python when used with mutable and immutable types?\n",
    "\n",
    "'+' creates a new object (for both mutable and immutable types).\n",
    "\n",
    "'+=' may modify the object in-place (for mutable types) or create a new one (for immutable types)."
   ]
  },
  {
   "cell_type": "code",
   "execution_count": null,
   "id": "942edf33",
   "metadata": {},
   "outputs": [
    {
     "name": "stdout",
     "output_type": "stream",
     "text": [
      "[1, 2, 0]\n",
      "[1, 2, 0, 3, 4]\n",
      "hello world \n",
      "hello world in the new\n"
     ]
    }
   ],
   "source": [
    "# List is mutable\n",
    "# use of \"+=\"\n",
    "a = [1, 2]\n",
    "b = [3,4]\n",
    "a += [0]\n",
    "print(a) \n",
    "c = a + b\n",
    "print(c)\n",
    "\n",
    "# String is immutable\n",
    "# use of \"+=\"\n",
    "str = \"hello\"\n",
    "str1 = \"in the new\"\n",
    "str += \" world \"\n",
    "print(str) \n",
    "# use of \"+\"\n",
    "new = str + str1\n",
    "print(new)"
   ]
  },
  {
   "cell_type": "markdown",
   "id": "85b813d5",
   "metadata": {},
   "source": [
    "#### 7.Explain the purpose and use of the `in` operator in Python. How does it behave differently when used with different data types, such as strings, lists, and dictionaries?\n",
    "\n",
    "Purpose: Checks if a value exists in a collection."
   ]
  },
  {
   "cell_type": "code",
   "execution_count": null,
   "id": "ec3e7430",
   "metadata": {},
   "outputs": [
    {
     "name": "stdout",
     "output_type": "stream",
     "text": [
      "True\n",
      "True\n",
      "True\n",
      "False\n"
     ]
    }
   ],
   "source": [
    "# use of \"in\" with different datatypes\n",
    "print(\"a\" in \"artist\")  # string ---> True\n",
    "print(4 in [4, 5, 6])  # list ---> True\n",
    "print(\"key\" in {'key': 456})  # dictionary ---> True\n",
    "print(456 in {'key': 456})    # dictionary ---> False (456 is value, not key)"
   ]
  },
  {
   "cell_type": "markdown",
   "id": "24df1177",
   "metadata": {},
   "source": [
    "#### 8.How do the bitwise operators (`&`, `|`, `^`, `~`, `<<`, `>>`) work in Python? Provide examples of their usage.\n",
    "\n",
    "'&'  \tAND\ta & b (101 & 011)\t1\n",
    "\n",
    "`       `\tOR\t`a\n",
    "\n",
    "'^'\t    XOR\ta ^ b\t6\n",
    "\n",
    "'~'\t    NOT\t~a\t-6\n",
    "\n",
    "'<<'\tLeft Shift\ta << 1\t10\n",
    "\n",
    "'>>'\tRight Shift\ta >> 1\t2"
   ]
  },
  {
   "cell_type": "code",
   "execution_count": null,
   "id": "d6cef6f9",
   "metadata": {},
   "outputs": [
    {
     "name": "stdout",
     "output_type": "stream",
     "text": [
      "1\n",
      "7\n",
      "6\n",
      "-6\n",
      "10\n",
      "2\n"
     ]
    }
   ],
   "source": [
    "a = 5   \n",
    "b = 3   \n",
    "\n",
    "print(a & b)   \n",
    "print(a | b)  \n",
    "print(a ^ b) \n",
    "print(~a)    \n",
    "print(a << 1) \n",
    "print(a >> 1) \n"
   ]
  },
  {
   "cell_type": "markdown",
   "id": "918fcd8b",
   "metadata": {},
   "source": [
    "#### 9.What are augmented assignment operators, and how do they work in Python? Give examples with `+=`, `-=`, and `*=`.\n",
    "\n"
   ]
  },
  {
   "cell_type": "code",
   "execution_count": null,
   "id": "3920f27f",
   "metadata": {},
   "outputs": [
    {
     "name": "stdout",
     "output_type": "stream",
     "text": [
      "15\n",
      "12\n",
      "24\n"
     ]
    }
   ],
   "source": [
    "x = 10\n",
    "x += 5   # x = x + 5\n",
    "print(x)\n",
    "x -= 3   # x = x - 3\n",
    "print(x)\n",
    "x *= 2   # x = x * 2\n",
    "print(x)"
   ]
  },
  {
   "cell_type": "markdown",
   "id": "60ef9d03",
   "metadata": {},
   "source": [
    "#### 10.How does Python’s `is` operator differ from `==`, especially in terms of comparing lists, strings, and other complex data types?\n",
    "\n",
    "'==' checks value equality\n",
    "\n",
    "'is' checks identity (memory location)"
   ]
  },
  {
   "cell_type": "code",
   "execution_count": null,
   "id": "0ef8e386",
   "metadata": {},
   "outputs": [
    {
     "name": "stdout",
     "output_type": "stream",
     "text": [
      "True\n",
      "False\n",
      "True\n",
      "True\n",
      "True\n",
      "True\n"
     ]
    }
   ],
   "source": [
    "# For list \n",
    "a = [1, 2, 3]\n",
    "b = [1, 2, 3]\n",
    "\n",
    "print(a == b)  #(same values)\n",
    "print(a is b)  #(different objects)\n",
    "\n",
    "# For strings\n",
    "x = \"hello\"\n",
    "y = \"hello\"\n",
    "print(x == y)  \n",
    "print(x is y)  \n",
    "\n",
    "# For integers \n",
    "p = 10\n",
    "q = 10\n",
    "print(p == q)\n",
    "print(p is q) "
   ]
  }
 ],
 "metadata": {
  "kernelspec": {
   "display_name": "Python 3",
   "language": "python",
   "name": "python3"
  },
  "language_info": {
   "codemirror_mode": {
    "name": "ipython",
    "version": 3
   },
   "file_extension": ".py",
   "mimetype": "text/x-python",
   "name": "python",
   "nbconvert_exporter": "python",
   "pygments_lexer": "ipython3",
   "version": "3.11.9"
  }
 },
 "nbformat": 4,
 "nbformat_minor": 5
}
