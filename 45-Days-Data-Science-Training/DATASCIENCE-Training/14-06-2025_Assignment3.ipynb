{
 "cells": [
  {
   "cell_type": "markdown",
   "id": "2f45c1e3",
   "metadata": {},
   "source": [
    "# Python Assignment: List Comprehension\n",
    "---"
   ]
  },
  {
   "cell_type": "markdown",
   "id": "4e6a8da1",
   "metadata": {},
   "source": [
    "#### 1.What are list comprehensions in Python, and how do they differ from traditional `for` loops in terms of syntax and performance? \n",
    "   -  Coding Challenge:  Convert the following `for` loop into a list comprehension:\n",
    "     \n",
    "     squares = [ ]\n",
    "     for i in range(10):\n",
    "         squares.append(i  ** 2)\n",
    "List comprehensions offer a more concise and often faster way to create lists compared to traditional `for` loops."
   ]
  },
  {
   "cell_type": "code",
   "execution_count": 91,
   "id": "dbf917aa",
   "metadata": {},
   "outputs": [
    {
     "name": "stdout",
     "output_type": "stream",
     "text": [
      "[0, 1, 4, 9, 16, 25, 36, 49, 64, 81]\n"
     ]
    }
   ],
   "source": [
    "squares = [i ** 2 for i in range(10)]\n",
    "print(squares)"
   ]
  },
  {
   "cell_type": "markdown",
   "id": "87343125",
   "metadata": {},
   "source": [
    "#### 2.  How can you include conditional statements within a list comprehension? Provide an example. \n",
    "   -  Coding Challenge:  Create a list comprehension that generates a list of all even numbers between 1 and 50.\n",
    "   \n",
    "You can include `if` to filter elements while building lists."
   ]
  },
  {
   "cell_type": "code",
   "execution_count": 92,
   "id": "58ea300e",
   "metadata": {},
   "outputs": [
    {
     "name": "stdout",
     "output_type": "stream",
     "text": [
      "[2, 4, 6, 8, 10, 12, 14, 16, 18, 20, 22, 24, 26, 28, 30, 32, 34, 36, 38, 40, 42, 44, 46, 48, 50]\n"
     ]
    }
   ],
   "source": [
    "even_numbers = [i for i in range(1, 51) if i % 2 == 0]\n",
    "print(even_numbers)"
   ]
  },
  {
   "cell_type": "markdown",
   "id": "9bc87a5b",
   "metadata": {},
   "source": [
    "#### 3.  Explain the difference between `if` and `if-else` conditions in list comprehensions. How do you use them? \n",
    "   -  Coding Challenge:  Write a list comprehension that replaces every negative number in a list with 0, leaving positive numbers unchanged.\n",
    "- `if`: Filters elements.\n",
    "- `if-else`: Used to modify values based on conditions."
   ]
  },
  {
   "cell_type": "code",
   "execution_count": 93,
   "id": "38bb5c42",
   "metadata": {},
   "outputs": [
    {
     "name": "stdout",
     "output_type": "stream",
     "text": [
      "[0, 3, 0, 8]\n"
     ]
    }
   ],
   "source": [
    "numbers = [-5, 3, -2, 8]\n",
    "replaced = [x if x >= 0 else 0 for x in numbers]\n",
    "print(replaced)"
   ]
  },
  {
   "cell_type": "markdown",
   "id": "24dd3023",
   "metadata": {},
   "source": [
    "#### 3.  Explain the difference between `if` and `if-else` conditions in list comprehensions. How do you use them? \n",
    "   -  Coding Challenge:  Write a list comprehension that replaces every negative number in a list with 0, leaving positive numbers unchanged.\n",
    "Nested loops can be used in list comprehensions to flatten 2D lists."
   ]
  },
  {
   "cell_type": "code",
   "execution_count": 94,
   "id": "fc9a7de7",
   "metadata": {},
   "outputs": [
    {
     "name": "stdout",
     "output_type": "stream",
     "text": [
      "[1, 2, 3, 4, 5, 6, 7, 8, 9]\n"
     ]
    }
   ],
   "source": [
    "matrix = [[1, 2, 3], [4, 5, 6], [7, 8, 9]]\n",
    "flattened = [num for row in matrix for num in row]\n",
    "print(flattened)"
   ]
  },
  {
   "cell_type": "markdown",
   "id": "6cc6dec9",
   "metadata": {},
   "source": [
    "#### 5.  What are the limitations of list comprehensions in terms of readability and complexity? When should you prefer a traditional loop over a list comprehension? \n",
    "   -  Coding Challenge:  Rewrite the following list comprehension using a traditional loop to improve readability:\n",
    "     \n",
    "     result = [x*y for x in range(1, 10) for y in range(1, 10) if x*y % 2 == 0]\n",
    "\n",
    "Complex comprehensions may harm readability; prefer loops in such cases."
   ]
  },
  {
   "cell_type": "code",
   "execution_count": 95,
   "id": "94c228ab",
   "metadata": {},
   "outputs": [
    {
     "name": "stdout",
     "output_type": "stream",
     "text": [
      "[2, 4, 6, 8, 2, 4, 6, 8, 10, 12, 14, 16, 18, 6, 12, 18, 24, 4, 8, 12, 16, 20, 24, 28, 32, 36, 10, 20, 30, 40, 6, 12, 18, 24, 30, 36, 42, 48, 54, 14, 28, 42, 56, 8, 16, 24, 32, 40, 48, 56, 64, 72, 18, 36, 54, 72]\n"
     ]
    }
   ],
   "source": [
    "result = []\n",
    "for x in range(1, 10):\n",
    "    for y in range(1, 10):\n",
    "        if x * y % 2 == 0:\n",
    "            result.append(x * y)\n",
    "print(result)"
   ]
  },
  {
   "cell_type": "markdown",
   "id": "369971d6",
   "metadata": {},
   "source": [
    "#### 6.  How can you use list comprehensions with functions? Provide an example where a function is called within a list comprehension. \n",
    "   -  Coding Challenge:  Write a list comprehension that applies the `abs()` function to each number in a list, converting all numbers to their absolute values.\n",
    "\n",
    "Functions like `abs()` can be applied to each element using comprehension."
   ]
  },
  {
   "cell_type": "code",
   "execution_count": 96,
   "id": "c4d64564",
   "metadata": {},
   "outputs": [
    {
     "name": "stdout",
     "output_type": "stream",
     "text": [
      "[1, 2, 3, 4]\n"
     ]
    }
   ],
   "source": [
    "nums = [-1, -2, 3, -4]\n",
    "abs_vals = [abs(n) for n in nums]\n",
    "print(abs_vals)"
   ]
  },
  {
   "cell_type": "markdown",
   "id": "06f5f06b",
   "metadata": {},
   "source": [
    "#### 7.  How do list comprehensions handle the scope of variables? What happens if you use a variable name inside a list comprehension that is also used outside it? \n",
    "   -  Coding Challenge:  Demonstrate the scope behavior of variables in list comprehensions by creating a list comprehension that unintentionally overrides a variable defined outside the comprehension.\n",
    "   \n",
    "Variables inside list comprehensions have their own scope in Python 3."
   ]
  },
  {
   "cell_type": "code",
   "execution_count": 97,
   "id": "c0959b65",
   "metadata": {},
   "outputs": [
    {
     "name": "stdout",
     "output_type": "stream",
     "text": [
      "Outer x: 5\n",
      "Squares: [0, 1, 4]\n"
     ]
    }
   ],
   "source": [
    "x = 5\n",
    "squares = [x**2 for x in range(3)]\n",
    "print(\"Outer x:\", x)\n",
    "print(\"Squares:\", squares)"
   ]
  },
  {
   "cell_type": "markdown",
   "id": "216c251d",
   "metadata": {},
   "source": [
    "#### 8.  What are the differences between list comprehensions and generator expressions? When would you use one over the other? \n",
    "   -  Coding Challenge:  Convert the following list comprehension into a generator expression:\n",
    "     ```python\n",
    "     multiples_of_three = [x for x in range(100) if x % 3 == 0]\n",
    "     ```\n",
    "Generators save memory by yielding items lazily, unlike lists which store all items in memory."
   ]
  },
  {
   "cell_type": "code",
   "execution_count": 98,
   "id": "8e7c4753",
   "metadata": {},
   "outputs": [
    {
     "name": "stdout",
     "output_type": "stream",
     "text": [
      "[0, 3, 6, 9, 12, 15, 18, 21, 24, 27, 30, 33, 36, 39, 42, 45, 48, 51, 54, 57, 60, 63, 66, 69, 72, 75, 78, 81, 84, 87, 90, 93, 96, 99]\n"
     ]
    }
   ],
   "source": [
    "multiples_of_three = (x for x in range(100) if x % 3 == 0)\n",
    "print(list(multiples_of_three))"
   ]
  },
  {
   "cell_type": "markdown",
   "id": "fb447cb4",
   "metadata": {},
   "source": [
    "#### 9.  How can you use a list comprehension to filter and transform data in one step? Provide an example. \n",
    "   -  Coding Challenge:  Write a list comprehension that filters out all strings from a mixed list of integers and strings, and then converts the remaining integers to their square values.\n",
    "   \n",
    "Use list comprehension to filter types and transform values simultaneously."
   ]
  },
  {
   "cell_type": "code",
   "execution_count": 99,
   "id": "439f8111",
   "metadata": {},
   "outputs": [
    {
     "name": "stdout",
     "output_type": "stream",
     "text": [
      "[1, 4, 9]\n"
     ]
    }
   ],
   "source": [
    "mixed = [1, 'a', 2, 'b', 3]\n",
    "squares = [x**2 for x in mixed if isinstance(x, int)]\n",
    "print(squares)"
   ]
  },
  {
   "cell_type": "markdown",
   "id": "89478d20",
   "metadata": {},
   "source": [
    "#### 10.  Can you create a dictionary or set using comprehension syntax in Python? How does the syntax differ from list comprehensions? \n",
    "    -  Coding Challenge:  Write a dictionary comprehension that maps each character in a string to its ASCII value. For example, given the string `\"hello\"`, the result should be `{'h': 104, 'e': 101, 'l': 108, 'o': 111}`.\n",
    "You can create dictionaries and sets with similar syntax using `{}` instead of `[]`."
   ]
  },
  {
   "cell_type": "code",
   "execution_count": 100,
   "id": "78a16d91",
   "metadata": {},
   "outputs": [
    {
     "name": "stdout",
     "output_type": "stream",
     "text": [
      "{'h': 104, 'e': 101, 'l': 108, 'o': 111}\n"
     ]
    }
   ],
   "source": [
    "text = \"hello\"\n",
    "ascii_map = {ch: ord(ch) for ch in text}\n",
    "print(ascii_map)"
   ]
  }
 ],
 "metadata": {
  "kernelspec": {
   "display_name": "Python 3",
   "language": "python",
   "name": "python3"
  },
  "language_info": {
   "codemirror_mode": {
    "name": "ipython",
    "version": 3
   },
   "file_extension": ".py",
   "mimetype": "text/x-python",
   "name": "python",
   "nbconvert_exporter": "python",
   "pygments_lexer": "ipython3",
   "version": "3.11.9"
  }
 },
 "nbformat": 4,
 "nbformat_minor": 5
}
