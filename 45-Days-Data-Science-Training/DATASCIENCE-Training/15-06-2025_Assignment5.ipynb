{
 "cells": [
  {
   "cell_type": "markdown",
   "id": "619dccee",
   "metadata": {},
   "source": [
    "# Python Assignment: Object-Oriented Programming (OOP)\n",
    "---"
   ]
  },
  {
   "cell_type": "markdown",
   "id": "d97f58b4",
   "metadata": {},
   "source": [
    "#### 1.   What is the difference between a class and an object in Python? How do they relate to each other in the context of OOP?  \n",
    "   -   Coding Challenge:   Define a class `Book` with attributes like `title`, `author`, and `year_published`. Create an instance of the class and print out its attributes.\n",
    "\n",
    "A class is a blueprint, while an object is an instance of that blueprint."
   ]
  },
  {
   "cell_type": "code",
   "execution_count": 101,
   "id": "9c990e0b",
   "metadata": {},
   "outputs": [
    {
     "name": "stdout",
     "output_type": "stream",
     "text": [
      "1984 George Orwell 1949\n"
     ]
    }
   ],
   "source": [
    "class Book:\n",
    "    def __init__(self, title, author, year):\n",
    "        self.title = title\n",
    "        self.author = author\n",
    "        self.year = year\n",
    "\n",
    "book1 = Book(\"1984\", \"George Orwell\", 1949)\n",
    "print(book1.title, book1.author, book1.year)"
   ]
  },
  {
   "cell_type": "markdown",
   "id": "4c80d716",
   "metadata": {},
   "source": [
    "#### 2.   Explain the concept of inheritance in Python. How does it promote code reuse and what are some potential pitfalls?  \n",
    "   -   Coding Challenge:   Create a base class `Vehicle` with a method `move`. Then, create two derived classes `Car` and `Bike` that inherit from `Vehicle` and override the `move` method.\n",
    "\n",
    "Inheritance allows classes to inherit attributes and methods from another class."
   ]
  },
  {
   "cell_type": "code",
   "execution_count": 102,
   "id": "9b2317cb",
   "metadata": {},
   "outputs": [
    {
     "name": "stdout",
     "output_type": "stream",
     "text": [
      "Car is driving\n",
      "Bike is pedaling\n"
     ]
    }
   ],
   "source": [
    "class Vehicle:\n",
    "    def move(self):\n",
    "        print(\"Vehicle is moving\")\n",
    "\n",
    "class Car(Vehicle):\n",
    "    def move(self):\n",
    "        print(\"Car is driving\")\n",
    "\n",
    "class Bike(Vehicle):\n",
    "    def move(self):\n",
    "        print(\"Bike is pedaling\")\n",
    "\n",
    "car = Car()\n",
    "car.move()\n",
    "bike = Bike()\n",
    "bike.move()"
   ]
  },
  {
   "cell_type": "markdown",
   "id": "307fd791",
   "metadata": {},
   "source": [
    "#### 3.   What is polymorphism in Python, and how is it implemented through method overriding and method overloading?  \n",
    "   -   Coding Challenge:   Write a function `move_vehicle` that takes an object as input and calls its `move` method. Create different classes (`Boat`, `Airplane`, etc.) that have their own `move` methods and pass their instances to `move_vehicle`.\n",
    "\n",
    "Different classes can define their own version of the same method."
   ]
  },
  {
   "cell_type": "code",
   "execution_count": 103,
   "id": "ac76ed70",
   "metadata": {},
   "outputs": [
    {
     "name": "stdout",
     "output_type": "stream",
     "text": [
      "Boat is sailing\n",
      "Airplane is flying\n"
     ]
    }
   ],
   "source": [
    "def move_vehicle(vehicle):\n",
    "    vehicle.move()\n",
    "\n",
    "class Boat:\n",
    "    def move(self):\n",
    "        print(\"Boat is sailing\")\n",
    "\n",
    "class Airplane:\n",
    "    def move(self):\n",
    "        print(\"Airplane is flying\")\n",
    "\n",
    "move_vehicle(Boat())\n",
    "move_vehicle(Airplane())"
   ]
  },
  {
   "cell_type": "markdown",
   "id": "b730cd20",
   "metadata": {},
   "source": [
    "#### 4.   What are class methods and static methods in Python? How do they differ from instance methods?  \n",
    "   -   Coding Challenge:   Define a class `Calculator` with a static method `multiply(a, b)` that returns the product of `a` and `b`, and a class method `from_values` that creates an instance from a list of two values and returns their product.\n",
    "\n",
    "Class methods operate on the class; static methods do not depend on instance or class."
   ]
  },
  {
   "cell_type": "code",
   "execution_count": 104,
   "id": "f5f5cfb0",
   "metadata": {},
   "outputs": [
    {
     "name": "stdout",
     "output_type": "stream",
     "text": [
      "12\n",
      "12\n"
     ]
    }
   ],
   "source": [
    "class Calculator:\n",
    "    @staticmethod\n",
    "    def multiply(a, b):\n",
    "        return a * b\n",
    "\n",
    "    @classmethod\n",
    "    def from_values(cls, values):\n",
    "        return cls.multiply(*values)\n",
    "\n",
    "print(Calculator.multiply(3, 4))\n",
    "print(Calculator.from_values([3, 4]))"
   ]
  },
  {
   "cell_type": "markdown",
   "id": "7eeda646",
   "metadata": {},
   "source": [
    "#### 5.   Explain the concept of encapsulation and how Python supports it through public, protected, and private attributes and methods.  \n",
    "   -   Coding Challenge:   Create a class `Person` with private attributes `name` and `age`, and methods to set and get these attributes. Ensure that direct access to `name` and `age` is not allowed from outside the class.\n",
    "\n",
    "Python uses underscores to define private/protected attributes."
   ]
  },
  {
   "cell_type": "code",
   "execution_count": 105,
   "id": "14773478",
   "metadata": {},
   "outputs": [
    {
     "name": "stdout",
     "output_type": "stream",
     "text": [
      "Alice\n"
     ]
    }
   ],
   "source": [
    "class Person:\n",
    "    def __init__(self, name, age):\n",
    "        self.__name = name\n",
    "        self.__age = age\n",
    "\n",
    "    def get_name(self):\n",
    "        return self.__name\n",
    "\n",
    "    def set_name(self, name):\n",
    "        self.__name = name\n",
    "\n",
    "p = Person(\"Alice\", 30)\n",
    "print(p.get_name())"
   ]
  },
  {
   "cell_type": "markdown",
   "id": "048bf479",
   "metadata": {},
   "source": [
    "#### 6.   What is the purpose of the `__init__` method in Python classes? How does it differ from other methods?  \n",
    "   -   Coding Challenge:   Write a class `Product` with an `__init__` method that initializes the product's `name` and `price`. Create an instance of `Product` and print the product's details.\n",
    "\n",
    "Used to initialize instance variables when an object is created."
   ]
  },
  {
   "cell_type": "code",
   "execution_count": 106,
   "id": "bcbca3e7",
   "metadata": {},
   "outputs": [
    {
     "name": "stdout",
     "output_type": "stream",
     "text": [
      "Laptop 1500\n"
     ]
    }
   ],
   "source": [
    "class Product:\n",
    "    def __init__(self, name, price):\n",
    "        self.name = name\n",
    "        self.price = price\n",
    "\n",
    "item = Product(\"Laptop\", 1500)\n",
    "print(item.name, item.price)"
   ]
  },
  {
   "cell_type": "markdown",
   "id": "320d289d",
   "metadata": {},
   "source": [
    "#### 7.   How does Python implement multiple inheritance, and what is the method resolution order (MRO)? How does MRO resolve conflicts in multiple inheritance?  \n",
    "   -   Coding Challenge:   Create two classes `Appliance` and `Electronic` with a method `operate()`. Then, create a class `SmartFridge` that inherits from both `Appliance` and `Electronic` and overrides `operate()`. Use `super()` to demonstrate MRO in `SmartFridge`.\n",
    "\n",
    "Python uses MRO to resolve conflicts in multiple inheritance using `super()`."
   ]
  },
  {
   "cell_type": "code",
   "execution_count": 107,
   "id": "f6a058fe",
   "metadata": {},
   "outputs": [
    {
     "name": "stdout",
     "output_type": "stream",
     "text": [
      "Appliance operating\n",
      "SmartFridge cooling\n"
     ]
    }
   ],
   "source": [
    "class Appliance:\n",
    "    def operate(self):\n",
    "        print(\"Appliance operating\")\n",
    "\n",
    "class Electronic:\n",
    "    def operate(self):\n",
    "        print(\"Electronic running\")\n",
    "\n",
    "class SmartFridge(Appliance, Electronic):\n",
    "    def operate(self):\n",
    "        super().operate()\n",
    "        print(\"SmartFridge cooling\")\n",
    "\n",
    "f = SmartFridge()\n",
    "f.operate()"
   ]
  },
  {
   "cell_type": "markdown",
   "id": "c944de1e",
   "metadata": {},
   "source": [
    "#### 8.   What are special methods (also known as magic methods) in Python? How can they be used to customize the behavior of Python classes?  \n",
    "   -   Coding Challenge:   Implement the `__eq__` and `__lt__` methods in a `Book` class to compare books based on their `year_published`.\n",
    "\n",
    "Special methods customize class behavior (e.g. `__eq__`, `__lt__`)."
   ]
  },
  {
   "cell_type": "code",
   "execution_count": 108,
   "id": "113e3c08",
   "metadata": {},
   "outputs": [
    {
     "name": "stdout",
     "output_type": "stream",
     "text": [
      "False\n",
      "False\n"
     ]
    }
   ],
   "source": [
    "class Book:\n",
    "    def __init__(self, title, year):\n",
    "        self.title = title\n",
    "        self.year = year\n",
    "\n",
    "    def __eq__(self, other):\n",
    "        return self.year == other.year\n",
    "\n",
    "    def __lt__(self, other):\n",
    "        return self.year < other.year\n",
    "\n",
    "b1 = Book(\"Book A\", 2000)\n",
    "b2 = Book(\"Book B\", 1995)\n",
    "print(b1 == b2)\n",
    "print(b1 < b2)"
   ]
  },
  {
   "cell_type": "markdown",
   "id": "54168780",
   "metadata": {},
   "source": [
    "#### 9.   What is the difference between composition and inheritance in OOP? When would you use composition instead of inheritance?  \n",
    "   -   Coding Challenge:   Create a class `Engine` and a class `Truck` that uses composition by having an instance of `Engine` as an attribute of `Truck`.\n",
    "\n",
    "Composition uses 'has-a' relationship instead of 'is-a'."
   ]
  },
  {
   "cell_type": "code",
   "execution_count": 109,
   "id": "f1f33370",
   "metadata": {},
   "outputs": [
    {
     "name": "stdout",
     "output_type": "stream",
     "text": [
      "Engine starting\n"
     ]
    }
   ],
   "source": [
    "class Engine:\n",
    "    def start(self):\n",
    "        print(\"Engine starting\")\n",
    "\n",
    "class Truck:\n",
    "    def __init__(self):\n",
    "        self.engine = Engine()\n",
    "\n",
    "    def start_truck(self):\n",
    "        self.engine.start()\n",
    "\n",
    "t = Truck()\n",
    "t.start_truck()"
   ]
  },
  {
   "cell_type": "markdown",
   "id": "5d70b6c4",
   "metadata": {},
   "source": [
    "#### 10.   Explain the purpose of property decorators (`@property`) in Python. How do they contribute to data encapsulation and controlled access to class attributes?  \n",
    "    -   Coding Challenge:   Write a class `Circle` with attributes `radius`. Use property decorators to create a `diameter` property that returns the diameter of the circle and an `area` property that returns the area of the circle.\n",
    "\n",
    "They provide a way to use methods like attributes, enabling control and encapsulation."
   ]
  },
  {
   "cell_type": "code",
   "execution_count": 110,
   "id": "a0094bf3",
   "metadata": {},
   "outputs": [
    {
     "name": "stdout",
     "output_type": "stream",
     "text": [
      "10\n",
      "78.53981633974483\n"
     ]
    }
   ],
   "source": [
    "import math\n",
    "class Circle:\n",
    "    def __init__(self, radius):\n",
    "        self._radius = radius\n",
    "\n",
    "    @property\n",
    "    def diameter(self):\n",
    "        return self._radius * 2\n",
    "\n",
    "    @property\n",
    "    def area(self):\n",
    "        return math.pi * self._radius ** 2\n",
    "\n",
    "c = Circle(5)\n",
    "print(c.diameter)\n",
    "print(c.area)"
   ]
  }
 ],
 "metadata": {
  "kernelspec": {
   "display_name": "Python 3",
   "language": "python",
   "name": "python3"
  },
  "language_info": {
   "codemirror_mode": {
    "name": "ipython",
    "version": 3
   },
   "file_extension": ".py",
   "mimetype": "text/x-python",
   "name": "python",
   "nbconvert_exporter": "python",
   "pygments_lexer": "ipython3",
   "version": "3.11.9"
  }
 },
 "nbformat": 4,
 "nbformat_minor": 5
}
