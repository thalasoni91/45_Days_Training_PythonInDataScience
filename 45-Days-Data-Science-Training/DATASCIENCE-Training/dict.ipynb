{
 "cells": [
  {
   "cell_type": "markdown",
   "id": "4a2f8b73",
   "metadata": {},
   "source": [
    "# DICTIONARY"
   ]
  },
  {
   "cell_type": "markdown",
   "id": "9c73b1f2",
   "metadata": {},
   "source": [
    "#### key value pair\n",
    "#### dict {}\n",
    "#### ordered, changable, do not allow duplicates"
   ]
  },
  {
   "cell_type": "code",
   "execution_count": 153,
   "id": "b4ac29d2",
   "metadata": {},
   "outputs": [
    {
     "name": "stdout",
     "output_type": "stream",
     "text": [
      "{'name': 'hello', 'age': {'age1': 10, 'age2': 20}, 'hobby': 'coding'}\n",
      "<class 'dict'>\n"
     ]
    }
   ],
   "source": [
    "dt = {\n",
    "    \"name\" : \"hello\",\n",
    "    \"age\" : 20,\n",
    "    \"hobby\" : \"coding\",\n",
    "    #\"age\" : 30, #latest value is updated only\n",
    "    \"age\" : {\"age1\" : 10, \"age2\" : 20}\n",
    "}\n",
    "print(dt)\n",
    "print(type(dt))"
   ]
  },
  {
   "cell_type": "code",
   "execution_count": 154,
   "id": "953e25f4",
   "metadata": {},
   "outputs": [
    {
     "name": "stdout",
     "output_type": "stream",
     "text": [
      "{'age1': 10, 'age2': 20}\n"
     ]
    }
   ],
   "source": [
    "#indexing\n",
    "\n",
    "print(dt[\"age\"])"
   ]
  },
  {
   "cell_type": "code",
   "execution_count": 155,
   "id": "b4fb964a",
   "metadata": {},
   "outputs": [
    {
     "data": {
      "text/plain": [
       "{'name': 'hello', 'age': {'age1': 10, 'age2': 20}, 'hobby': 'basketball'}"
      ]
     },
     "execution_count": 155,
     "metadata": {},
     "output_type": "execute_result"
    }
   ],
   "source": [
    "#update\n",
    "\n",
    "dt[\"hobby\"] = \"basketball\"\n",
    "dt"
   ]
  },
  {
   "cell_type": "markdown",
   "id": "9a63d4bc",
   "metadata": {},
   "source": [
    "##### METHODS"
   ]
  },
  {
   "cell_type": "code",
   "execution_count": 156,
   "id": "9190f872",
   "metadata": {},
   "outputs": [
    {
     "data": {
      "text/plain": [
       "'hello'"
      ]
     },
     "execution_count": 156,
     "metadata": {},
     "output_type": "execute_result"
    }
   ],
   "source": [
    "dt.get(\"name\")"
   ]
  },
  {
   "cell_type": "code",
   "execution_count": 157,
   "id": "35a0d6f4",
   "metadata": {},
   "outputs": [
    {
     "data": {
      "text/plain": [
       "dict_items([('name', 'hello'), ('age', {'age1': 10, 'age2': 20}), ('hobby', 'basketball')])"
      ]
     },
     "execution_count": 157,
     "metadata": {},
     "output_type": "execute_result"
    }
   ],
   "source": [
    "dt.items()"
   ]
  },
  {
   "cell_type": "code",
   "execution_count": 158,
   "id": "7fc18310",
   "metadata": {},
   "outputs": [
    {
     "data": {
      "text/plain": [
       "dict_keys(['name', 'age', 'hobby'])"
      ]
     },
     "execution_count": 158,
     "metadata": {},
     "output_type": "execute_result"
    }
   ],
   "source": [
    "dt.keys()"
   ]
  },
  {
   "cell_type": "code",
   "execution_count": 159,
   "id": "40f6ade0",
   "metadata": {},
   "outputs": [
    {
     "data": {
      "text/plain": [
       "dict_values(['hello', {'age1': 10, 'age2': 20}, 'basketball'])"
      ]
     },
     "execution_count": 159,
     "metadata": {},
     "output_type": "execute_result"
    }
   ],
   "source": [
    "dt.values()"
   ]
  },
  {
   "cell_type": "code",
   "execution_count": 160,
   "id": "517ebf7b",
   "metadata": {},
   "outputs": [],
   "source": [
    "#dt.clear()\n",
    "#dt"
   ]
  },
  {
   "cell_type": "code",
   "execution_count": 161,
   "id": "7e578092",
   "metadata": {},
   "outputs": [
    {
     "data": {
      "text/plain": [
       "{'name': 'hello', 'age': {'age1': 10, 'age2': 20}}"
      ]
     },
     "execution_count": 161,
     "metadata": {},
     "output_type": "execute_result"
    }
   ],
   "source": [
    "dt.pop(\"hobby\")\n",
    "dt"
   ]
  },
  {
   "cell_type": "code",
   "execution_count": 162,
   "id": "e2ec40ec",
   "metadata": {},
   "outputs": [
    {
     "data": {
      "text/plain": [
       "{'name': 'hello',\n",
       " 'age': {'age1': 10, 'age2': 20},\n",
       " 'hobby': 'basketball',\n",
       " 'class': 'college'}"
      ]
     },
     "execution_count": 162,
     "metadata": {},
     "output_type": "execute_result"
    }
   ],
   "source": [
    "dt.update({\"hobby\" : \"basketball\", \"class\" : \"college\"})\n",
    "dt"
   ]
  },
  {
   "cell_type": "code",
   "execution_count": 163,
   "id": "6927e159",
   "metadata": {},
   "outputs": [
    {
     "data": {
      "text/plain": [
       "'dt = {\"a\" : 1}\\nvalue = dt.setdefault(\"b\", 2) #helps define a value which is default and added on its own and if we add a new value new value is considered and if no values given then it adjusts the missing values\\nprint(dt)'"
      ]
     },
     "execution_count": 163,
     "metadata": {},
     "output_type": "execute_result"
    }
   ],
   "source": [
    "'''dt = {\"a\" : 1}\n",
    "value = dt.setdefault(\"b\", 2) #helps define a value which is default and added on its own and if we add a new value new value is considered and if no values given then it adjusts the missing values\n",
    "print(dt)'''"
   ]
  },
  {
   "cell_type": "code",
   "execution_count": 164,
   "id": "28d8ceef",
   "metadata": {},
   "outputs": [
    {
     "data": {
      "text/plain": [
       "{'H': 10, 'E': 10, 'L': 10, 'O': 10}"
      ]
     },
     "execution_count": 164,
     "metadata": {},
     "output_type": "execute_result"
    }
   ],
   "source": [
    "dt.fromkeys(\"HELLO\", 10)"
   ]
  }
 ],
 "metadata": {
  "kernelspec": {
   "display_name": "Python 3",
   "language": "python",
   "name": "python3"
  },
  "language_info": {
   "codemirror_mode": {
    "name": "ipython",
    "version": 3
   },
   "file_extension": ".py",
   "mimetype": "text/x-python",
   "name": "python",
   "nbconvert_exporter": "python",
   "pygments_lexer": "ipython3",
   "version": "3.11.9"
  }
 },
 "nbformat": 4,
 "nbformat_minor": 5
}
