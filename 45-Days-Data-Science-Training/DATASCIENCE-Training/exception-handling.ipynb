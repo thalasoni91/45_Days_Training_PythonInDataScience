{
 "cells": [
  {
   "cell_type": "markdown",
   "id": "2cccdbc1",
   "metadata": {},
   "source": [
    "# ERROR HANDLING\n",
    "### TYPES OF BLOCK --> try, except, else, finally\n",
    "#### TRY- try block is used to test a block of code for errors\n",
    "#### EXCEPT- except block is used to handle the error\n",
    "#### ELSE - else block is used to define a block of code to be executed if there is no error\n",
    "#### FINALLY - finally block is used to define a block of code to be executed\n",
    "#####       (regardless of the result of the try and except block)"
   ]
  },
  {
   "cell_type": "code",
   "execution_count": 4,
   "id": "77b6f96b",
   "metadata": {},
   "outputs": [
    {
     "name": "stdout",
     "output_type": "stream",
     "text": [
      "division by zero\n",
      "Finally block\n"
     ]
    }
   ],
   "source": [
    "# ZERO DIVISION ERROR\n",
    "\n",
    "try:\n",
    "    print(10/0)\n",
    "except Exception as e: #Exception is initialized in order to known which type of error is there if known error then add name of the particular error\n",
    "    print(e)\n",
    "else:\n",
    "    print(\"Else block\")\n",
    "finally:\n",
    "    print(\"Finally block\")"
   ]
  },
  {
   "cell_type": "code",
   "execution_count": 6,
   "id": "84a8846e",
   "metadata": {},
   "outputs": [
    {
     "name": "stdout",
     "output_type": "stream",
     "text": [
      "list index out of range\n",
      "Finally block\n"
     ]
    }
   ],
   "source": [
    "try:\n",
    "    lst = [1, 2, 3]\n",
    "    print(lst[5])  #invalid index\n",
    "except Exception as e:\n",
    "    print(e)\n",
    "else:\n",
    "    print(\"Else block\")\n",
    "finally:\n",
    "    print(\"Finally block\")"
   ]
  }
 ],
 "metadata": {
  "kernelspec": {
   "display_name": "Python 3",
   "language": "python",
   "name": "python3"
  },
  "language_info": {
   "codemirror_mode": {
    "name": "ipython",
    "version": 3
   },
   "file_extension": ".py",
   "mimetype": "text/x-python",
   "name": "python",
   "nbconvert_exporter": "python",
   "pygments_lexer": "ipython3",
   "version": "3.11.9"
  }
 },
 "nbformat": 4,
 "nbformat_minor": 5
}
