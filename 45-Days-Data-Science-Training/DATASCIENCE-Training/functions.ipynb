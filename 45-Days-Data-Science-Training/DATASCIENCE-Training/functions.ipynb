{
 "cells": [
  {
   "cell_type": "markdown",
   "id": "d50b855a",
   "metadata": {},
   "source": [
    "## FUNCTIONS\n",
    "#### A function is a block of code which is used to perform a specific task and only runs when it is called.\n",
    "##### TYPES OF FUNCTIONS\n",
    "##### 1. User defined\n",
    "##### 2. Built-in functions"
   ]
  },
  {
   "cell_type": "code",
   "execution_count": 27,
   "id": "29c4469f",
   "metadata": {},
   "outputs": [
    {
     "name": "stdout",
     "output_type": "stream",
     "text": [
      "Hello from the function\n"
     ]
    }
   ],
   "source": [
    "# USER DEFINED FUNCTIONS\n",
    "\n",
    "def hello():\n",
    "    #block of code\n",
    "    print(\"Hello from the function\")\n",
    "    \n",
    "hello() #calling a function\n",
    "    "
   ]
  },
  {
   "cell_type": "code",
   "execution_count": 28,
   "id": "370c49a6",
   "metadata": {},
   "outputs": [
    {
     "name": "stdout",
     "output_type": "stream",
     "text": [
      "30\n"
     ]
    }
   ],
   "source": [
    "def add():\n",
    "    a = 10\n",
    "    b = 20\n",
    "    c = a+b\n",
    "    print(c)\n",
    "add()"
   ]
  },
  {
   "cell_type": "code",
   "execution_count": 29,
   "id": "2aabbcc1",
   "metadata": {},
   "outputs": [
    {
     "name": "stdout",
     "output_type": "stream",
     "text": [
      "11\n"
     ]
    }
   ],
   "source": [
    "# PARAMETER AND ARGUMENTS\n",
    "      # function ko banate time info pass karana\n",
    "      # function ko call krte time cheezo ko call krna \n",
    "      \n",
    "def addd(a,b):\n",
    "    print(a+b)\n",
    "    \n",
    "addd(5,6)\n"
   ]
  },
  {
   "cell_type": "code",
   "execution_count": 30,
   "id": "50f485e2",
   "metadata": {},
   "outputs": [
    {
     "name": "stdout",
     "output_type": "stream",
     "text": [
      "The youngest child is Sohan\n"
     ]
    }
   ],
   "source": [
    "## ARBITARY ARGUMENTS     ----args----   *\n",
    "    ## used when the number of arguments to be used are not known\n",
    "\n",
    "def child(*kids):\n",
    "    print(\"The youngest child is \" + kids[2])\n",
    "    \n",
    "child(\"Mohan\", \"Rohan\", \"Sohan\")"
   ]
  },
  {
   "cell_type": "code",
   "execution_count": 31,
   "id": "e1a40f3c",
   "metadata": {},
   "outputs": [
    {
     "name": "stdout",
     "output_type": "stream",
     "text": [
      "The youngest child is A\n"
     ]
    }
   ],
   "source": [
    "## KEYWORD ARGUMENTS       ----\n",
    "def child(child1, child2, child3):\n",
    "    print(\"The youngest child is \" + child3)\n",
    "    \n",
    "child (child3 = \"A\", child2 = \"B\", child1 = \"C\")"
   ]
  },
  {
   "cell_type": "code",
   "execution_count": 32,
   "id": "c21be8f1",
   "metadata": {},
   "outputs": [
    {
     "name": "stdout",
     "output_type": "stream",
     "text": [
      "The youngest child is A\n"
     ]
    }
   ],
   "source": [
    "## ARBITARY KEYWORD ARGUMENTS     ----     **kwargs\n",
    "\n",
    "def child(**kids):\n",
    "    print(\"The youngest child is \" + kids[\"child3\"])\n",
    "    \n",
    "child (child3 = \"A\", child2 = \"B\", child1 = \"C\")"
   ]
  },
  {
   "cell_type": "code",
   "execution_count": 33,
   "id": "9a642ea5",
   "metadata": {},
   "outputs": [
    {
     "name": "stdout",
     "output_type": "stream",
     "text": [
      "My hobby is Cricket\n",
      "My hobby is Coding\n"
     ]
    }
   ],
   "source": [
    "## DEFAULT PARAMETER VALUE\n",
    "\n",
    "def hobby(name=\"Coding\"):\n",
    "    print(\"My hobby is \" + name)\n",
    "    \n",
    "hobby(\"Cricket\")\n",
    "hobby()"
   ]
  },
  {
   "cell_type": "code",
   "execution_count": 34,
   "id": "377e13ce",
   "metadata": {},
   "outputs": [
    {
     "name": "stdout",
     "output_type": "stream",
     "text": [
      "mohan\n",
      "rohan\n",
      "sohan\n"
     ]
    }
   ],
   "source": [
    "## PASSING LIST AS AN ARGUMENT\n",
    "def lst(name):\n",
    "    for i in name:\n",
    "        print(i)\n",
    "        \n",
    "lst([\"mohan\",\"rohan\",\"sohan\"])"
   ]
  },
  {
   "cell_type": "code",
   "execution_count": 35,
   "id": "3e905341",
   "metadata": {},
   "outputs": [
    {
     "name": "stdout",
     "output_type": "stream",
     "text": [
      "5.5\n"
     ]
    }
   ],
   "source": [
    "## AVERAGE FUNCTION\n",
    "\n",
    "def avgg(name):\n",
    "    print(sum(name)/len(name))\n",
    "    \n",
    "avgg([1,2,3,4,5,6,7,8,9,10])\n"
   ]
  },
  {
   "cell_type": "markdown",
   "id": "b085e571",
   "metadata": {},
   "source": [
    "## IN BUILT FUNCTIONS"
   ]
  },
  {
   "cell_type": "markdown",
   "id": "4cb70ca4",
   "metadata": {},
   "source": [
    "#### LAMBDA FUNCTION"
   ]
  },
  {
   "cell_type": "code",
   "execution_count": 36,
   "id": "5c3bb8d6",
   "metadata": {},
   "outputs": [
    {
     "data": {
      "text/plain": [
       "15"
      ]
     },
     "execution_count": 36,
     "metadata": {},
     "output_type": "execute_result"
    }
   ],
   "source": [
    "## LAMBDA FUNCTION --- small anonymous function\n",
    "## lambda arguments : expression\n",
    "\n",
    "\n",
    "x = lambda a : a + 10\n",
    "x(5)   ## 5 is an argument used to set value for a argument"
   ]
  },
  {
   "cell_type": "code",
   "execution_count": 37,
   "id": "47fe3087",
   "metadata": {},
   "outputs": [
    {
     "data": {
      "text/plain": [
       "15"
      ]
     },
     "execution_count": 37,
     "metadata": {},
     "output_type": "execute_result"
    }
   ],
   "source": [
    "## ADDITION IN SHORTEST SYNTAX\n",
    "\n",
    "x = lambda a,b : a + b\n",
    "x(5,10)"
   ]
  },
  {
   "cell_type": "code",
   "execution_count": 38,
   "id": "1f0800d4",
   "metadata": {},
   "outputs": [
    {
     "data": {
      "text/plain": [
       "25"
      ]
     },
     "execution_count": 38,
     "metadata": {},
     "output_type": "execute_result"
    }
   ],
   "source": [
    "x = lambda a : a*a\n",
    "x(5)"
   ]
  },
  {
   "cell_type": "markdown",
   "id": "31ffa472",
   "metadata": {},
   "source": [
    "#### MAP FUNCTION"
   ]
  },
  {
   "cell_type": "code",
   "execution_count": null,
   "id": "95080b94",
   "metadata": {},
   "outputs": [
    {
     "name": "stdout",
     "output_type": "stream",
     "text": [
      "<map object at 0x00000218035CE0E0>\n"
     ]
    }
   ],
   "source": [
    "## map(function, iterable)\n",
    "def sq(num):\n",
    "    return num*num\n",
    "\n",
    "lst = [1,2,3,4,5]\n",
    "result = map(sq,lst)\n",
    "print(result)     ## the output so printed is thus the nature of map function to show"
   ]
  },
  {
   "cell_type": "code",
   "execution_count": 40,
   "id": "af1ec8ac",
   "metadata": {},
   "outputs": [
    {
     "name": "stdout",
     "output_type": "stream",
     "text": [
      "[1, 4, 9, 16, 25]\n"
     ]
    }
   ],
   "source": [
    "def sq(num):\n",
    "    return num*num\n",
    "\n",
    "lst = [1,2,3,4,5]\n",
    "result = map(sq,lst)\n",
    "print(list(result))    ## typecasting done to change the output from object to the normal form"
   ]
  },
  {
   "cell_type": "code",
   "execution_count": 42,
   "id": "38218cb1",
   "metadata": {},
   "outputs": [
    {
     "name": "stdout",
     "output_type": "stream",
     "text": [
      "[2, 4]\n"
     ]
    }
   ],
   "source": [
    "lst = [1,2,3,4,5]\n",
    "result = filter(lambda num : num%2==0, lst)\n",
    "print(list(result))"
   ]
  },
  {
   "cell_type": "code",
   "execution_count": 43,
   "id": "57553dc0",
   "metadata": {},
   "outputs": [],
   "source": [
    "#reduce\n",
    "from functools import reduce\n"
   ]
  },
  {
   "cell_type": "code",
   "execution_count": 46,
   "id": "fcb6a75e",
   "metadata": {},
   "outputs": [
    {
     "name": "stdout",
     "output_type": "stream",
     "text": [
      "15\n"
     ]
    },
    {
     "data": {
      "text/plain": [
       "'from left to right\\n1 and 2 added then, lst = [3,3,4,5]\\n3 and 3, then lst = [6,4,5]\\n6 and 4, then lst = [10,5]\\n10 and 5, then lst = [15]'"
      ]
     },
     "execution_count": 46,
     "metadata": {},
     "output_type": "execute_result"
    }
   ],
   "source": [
    "lst = [1,2,3,4,5]\n",
    "result = reduce(lambda num1,num2 : num1 + num2, lst)\n",
    "print(result)\n",
    "\n",
    "\n",
    "## WORKING\n",
    "'''from left to right\n",
    "1 and 2 added then, lst = [3,3,4,5]\n",
    "3 and 3, then lst = [6,4,5]\n",
    "6 and 4, then lst = [10,5]\n",
    "10 and 5, then lst = [15]'''"
   ]
  },
  {
   "cell_type": "code",
   "execution_count": 47,
   "id": "0552e35c",
   "metadata": {},
   "outputs": [
    {
     "name": "stdout",
     "output_type": "stream",
     "text": [
      "[(0, 'mohan'), (1, 'rohan'), (2, 'ram')]\n"
     ]
    }
   ],
   "source": [
    "## ENUMERATE \n",
    "lst = [\"mohan\",\"rohan\",\"ram\"]\n",
    "result = enumerate(lst)\n",
    "print(list(result))"
   ]
  },
  {
   "cell_type": "code",
   "execution_count": 49,
   "id": "f14761a3",
   "metadata": {},
   "outputs": [
    {
     "name": "stdout",
     "output_type": "stream",
     "text": [
      "[(10, 'mohan'), (11, 'rohan'), (12, 'ram')]\n"
     ]
    }
   ],
   "source": [
    "lst = [\"mohan\",\"rohan\",\"ram\"]\n",
    "result = enumerate(lst, start = 10)   ## numbering(indexing) done using ur chosen number\n",
    "print(list(result))"
   ]
  },
  {
   "cell_type": "code",
   "execution_count": 50,
   "id": "22db78dc",
   "metadata": {},
   "outputs": [
    {
     "name": "stdout",
     "output_type": "stream",
     "text": [
      "[('mohan', 1), ('rohan', 2), ('ram', 3)]\n"
     ]
    }
   ],
   "source": [
    "## ZIP FUNCTION   ----    used to combine 2 or more iterables\n",
    "\n",
    "lst1 = [\"mohan\",\"rohan\",\"ram\"]\n",
    "lst2 = [1,2,3]\n",
    "result = zip(lst1,lst2)\n",
    "print(list(result))"
   ]
  },
  {
   "cell_type": "code",
   "execution_count": 51,
   "id": "baf11d5d",
   "metadata": {},
   "outputs": [
    {
     "name": "stdout",
     "output_type": "stream",
     "text": [
      "[('mohan', 1), ('rohan', 2)]\n"
     ]
    }
   ],
   "source": [
    "lst1 = [\"mohan\",\"rohan\",\"ram\"]\n",
    "lst2 = [1,2]\n",
    "result = zip(lst1,lst2)\n",
    "print(list(result))"
   ]
  },
  {
   "cell_type": "code",
   "execution_count": null,
   "id": "72fcc48a",
   "metadata": {},
   "outputs": [
    {
     "name": "stdout",
     "output_type": "stream",
     "text": [
      "['mohan', 'rohan', 'ram']\n",
      "[1, 2, 3]\n"
     ]
    }
   ],
   "source": [
    "## UNZIPPING\n",
    "\n",
    "zipped = [('mohan', 1), ('rohan', 2), ('ram', 3)]\n",
    "name,index = zip(*zipped)\n",
    "print(list(name))\n",
    "print(list(index))"
   ]
  }
 ],
 "metadata": {
  "kernelspec": {
   "display_name": "Python 3",
   "language": "python",
   "name": "python3"
  },
  "language_info": {
   "codemirror_mode": {
    "name": "ipython",
    "version": 3
   },
   "file_extension": ".py",
   "mimetype": "text/x-python",
   "name": "python",
   "nbconvert_exporter": "python",
   "pygments_lexer": "ipython3",
   "version": "3.11.9"
  }
 },
 "nbformat": 4,
 "nbformat_minor": 5
}
