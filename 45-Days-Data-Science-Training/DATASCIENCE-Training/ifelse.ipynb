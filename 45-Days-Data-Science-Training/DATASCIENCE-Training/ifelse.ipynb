{
 "cells": [
  {
   "cell_type": "markdown",
   "id": "444601a5",
   "metadata": {},
   "source": [
    "# IF-ELSE"
   ]
  },
  {
   "cell_type": "markdown",
   "id": "e2c39dc4",
   "metadata": {},
   "source": [
    "### CONDITIONAL STATEMENTS --- if, elif, else"
   ]
  },
  {
   "cell_type": "code",
   "execution_count": 28,
   "id": "217ba0c2",
   "metadata": {},
   "outputs": [
    {
     "name": "stdout",
     "output_type": "stream",
     "text": [
      "a is equal to b\n"
     ]
    }
   ],
   "source": [
    "a = 20\n",
    "b = 20\n",
    "if b>a:\n",
    "    #indentation\n",
    "    print(\"b is greater than a\")\n",
    "    \n",
    "elif b==a:\n",
    "    print(\"a is equal to b\")\n",
    "    \n",
    "else:\n",
    "    print(\"b is less than a\")"
   ]
  },
  {
   "cell_type": "markdown",
   "id": "c8ae27c7",
   "metadata": {},
   "source": [
    "### LOGICAL OPERATIONS"
   ]
  },
  {
   "cell_type": "code",
   "execution_count": 29,
   "id": "21f08fda",
   "metadata": {},
   "outputs": [
    {
     "name": "stdout",
     "output_type": "stream",
     "text": [
      "b is greater than a\n"
     ]
    }
   ],
   "source": [
    "a = 20\n",
    "b = 30\n",
    "c = 30\n",
    "if b>a and a<c:\n",
    "    #indentation\n",
    "    print(\"b is greater than a\")\n",
    "    \n",
    "else:\n",
    "    print(\"b is less than a\")"
   ]
  },
  {
   "cell_type": "code",
   "execution_count": 30,
   "id": "fb155644",
   "metadata": {},
   "outputs": [
    {
     "name": "stdout",
     "output_type": "stream",
     "text": [
      "b is less than a\n"
     ]
    }
   ],
   "source": [
    "a = 20\n",
    "b = 30\n",
    "c = 30\n",
    "if not(b>a and a<c):\n",
    "    #indentation\n",
    "    print(\"b is greater than a\")\n",
    "    \n",
    "else:\n",
    "    print(\"b is less than a\")"
   ]
  },
  {
   "cell_type": "code",
   "execution_count": 31,
   "id": "9f05af8a",
   "metadata": {},
   "outputs": [
    {
     "name": "stdout",
     "output_type": "stream",
     "text": [
      "35\n",
      "<class 'int'>\n",
      "a is odd\n"
     ]
    }
   ],
   "source": [
    "## NESTED IF ELSE\n",
    "\n",
    "a = int(input(\"enter a number : \"))\n",
    "print(a)\n",
    "print(type(a))\n",
    "if a>0:\n",
    "    if a%2==0:\n",
    "        print(\"a is even\")\n",
    "    else:\n",
    "        print(\"a is odd\")\n",
    "else:\n",
    "    print(\"a is negative\")"
   ]
  },
  {
   "cell_type": "code",
   "execution_count": 32,
   "id": "6e4b3af5",
   "metadata": {},
   "outputs": [
    {
     "name": "stdout",
     "output_type": "stream",
     "text": [
      "35 is divisible by both 5 and 7.\n"
     ]
    }
   ],
   "source": [
    "a = int(input(\"Enter a number : \"))\n",
    "\n",
    "if a % 5 == 0 and a % 7 == 0:\n",
    "    print(a, \"is divisible by both 5 and 7.\")\n",
    "else:\n",
    "    print(a, \"is NOT divisible by both 5 and 7.\")\n"
   ]
  },
  {
   "cell_type": "code",
   "execution_count": 33,
   "id": "5df0d46a",
   "metadata": {},
   "outputs": [
    {
     "name": "stdout",
     "output_type": "stream",
     "text": [
      "It is a leap year.\n"
     ]
    }
   ],
   "source": [
    "year = int(input(\"Enter an year: \"))\n",
    "\n",
    "if (year % 4 == 0):\n",
    "    if (year % 400 == 0):\n",
    "        print(\"It is a leap year.\")\n",
    "    else:\n",
    "        print(\"It is not a leap year.\")\n",
    "else:\n",
    "    print(\"It is not a leap year.\")\n"
   ]
  }
 ],
 "metadata": {
  "kernelspec": {
   "display_name": "Python 3",
   "language": "python",
   "name": "python3"
  },
  "language_info": {
   "codemirror_mode": {
    "name": "ipython",
    "version": 3
   },
   "file_extension": ".py",
   "mimetype": "text/x-python",
   "name": "python",
   "nbconvert_exporter": "python",
   "pygments_lexer": "ipython3",
   "version": "3.11.9"
  }
 },
 "nbformat": 4,
 "nbformat_minor": 5
}
