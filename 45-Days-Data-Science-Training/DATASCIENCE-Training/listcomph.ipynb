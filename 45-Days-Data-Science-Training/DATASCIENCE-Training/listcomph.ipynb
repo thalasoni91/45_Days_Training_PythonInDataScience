{
 "cells": [
  {
   "cell_type": "markdown",
   "id": "14c21390",
   "metadata": {},
   "source": [
    "## LIST COMPREHENSION\n",
    "#### List comprehension offers a shorter syntax when you want to create a new list.\n",
    "##### [EXPRESSION /OUTPUT | FOR LOOP | CONDITION] // FOR LOOP IS USED"
   ]
  },
  {
   "cell_type": "code",
   "execution_count": 1,
   "id": "7dfa25a0",
   "metadata": {},
   "outputs": [
    {
     "name": "stdout",
     "output_type": "stream",
     "text": [
      "['RED', 'BLUE', 'GREEN', 'BLACK']\n"
     ]
    }
   ],
   "source": [
    "lst = [\"red\",\"blue\",\"green\",\"black\"]\n",
    "newlist = [i.upper() for i in lst]\n",
    "print(newlist)"
   ]
  },
  {
   "cell_type": "code",
   "execution_count": 2,
   "id": "ae4a942c",
   "metadata": {},
   "outputs": [
    {
     "name": "stdout",
     "output_type": "stream",
     "text": [
      "[1, 4, 9, 16, 25]\n"
     ]
    }
   ],
   "source": [
    "lst = [1,2,3,4,5]\n",
    "newlist = [i*i for i in lst]\n",
    "print(newlist)"
   ]
  },
  {
   "cell_type": "code",
   "execution_count": 5,
   "id": "b7ce6311",
   "metadata": {},
   "outputs": [
    {
     "name": "stdout",
     "output_type": "stream",
     "text": [
      "[2, 4]\n"
     ]
    }
   ],
   "source": [
    "lst = [1,2,3,4,5]\n",
    "newlist = [i for i in lst if i%2==0]   #print only even numbers\n",
    "print(newlist)"
   ]
  },
  {
   "cell_type": "code",
   "execution_count": 6,
   "id": "2b3515bd",
   "metadata": {},
   "outputs": [
    {
     "name": "stdout",
     "output_type": "stream",
     "text": [
      "['r', 'b', 'g', 'b']\n"
     ]
    }
   ],
   "source": [
    "lst = [\"red\", \"blue\", \"green\", \"black\"]\n",
    "newlist = [i[0] for i in lst]\n",
    "print(newlist)"
   ]
  },
  {
   "cell_type": "code",
   "execution_count": null,
   "id": "36c6f012",
   "metadata": {},
   "outputs": [],
   "source": [
    "lst = [[1,2,3],[4,5,6],[7,8,9]]\n",
    "newlist = [i in i for i in lst]\n",
    "print(newlist)\n",
    "\n",
    "lst = [[1, 2, 3], [4, 5, 6], [7, 8, 9]]\n",
    "newlist = [i for sublist in lst for i in sublist]\n",
    "print(newlist)"
   ]
  }
 ],
 "metadata": {
  "kernelspec": {
   "display_name": "Python 3",
   "language": "python",
   "name": "python3"
  },
  "language_info": {
   "codemirror_mode": {
    "name": "ipython",
    "version": 3
   },
   "file_extension": ".py",
   "mimetype": "text/x-python",
   "name": "python",
   "nbconvert_exporter": "python",
   "pygments_lexer": "ipython3",
   "version": "3.11.9"
  }
 },
 "nbformat": 4,
 "nbformat_minor": 5
}
