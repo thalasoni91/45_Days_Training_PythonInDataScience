{
 "cells": [
  {
   "cell_type": "markdown",
   "id": "740c9ac2",
   "metadata": {},
   "source": [
    "# LOOPS"
   ]
  },
  {
   "cell_type": "markdown",
   "id": "8e1dae34",
   "metadata": {},
   "source": [
    "### FOR AND WHILE\n",
    "##### FOR LOOP -- Iterating over a sequence (list, tuple, dict, string)"
   ]
  },
  {
   "cell_type": "code",
   "execution_count": 67,
   "id": "8e0d1e6d",
   "metadata": {},
   "outputs": [
    {
     "name": "stdout",
     "output_type": "stream",
     "text": [
      "h\n",
      "e\n",
      "l\n",
      "l\n",
      "o\n"
     ]
    }
   ],
   "source": [
    "## string\n",
    "\n",
    "for i in \"hello\":\n",
    "    print(i)"
   ]
  },
  {
   "cell_type": "code",
   "execution_count": 68,
   "id": "8aa5a1d7",
   "metadata": {},
   "outputs": [
    {
     "name": "stdout",
     "output_type": "stream",
     "text": [
      "red, blue, green, black, "
     ]
    }
   ],
   "source": [
    "lst = [\"red\", \"blue\", \"green\", \"black\"]\n",
    "for i in lst:\n",
    "    print(i, end=\", \")"
   ]
  },
  {
   "cell_type": "code",
   "execution_count": 69,
   "id": "2d985a0a",
   "metadata": {},
   "outputs": [
    {
     "name": "stdout",
     "output_type": "stream",
     "text": [
      "Name ----- Thala\n",
      "Age ----- 21\n",
      "Course ----- AI\n"
     ]
    }
   ],
   "source": [
    "student = {\n",
    "    \"Name\": \"Thala\",\n",
    "    \"Age\": 21,\n",
    "    \"Course\": \"AI\"\n",
    "}\n",
    "for i, j in student.items():\n",
    "    print(i, \"-----\", j)"
   ]
  },
  {
   "cell_type": "code",
   "execution_count": 70,
   "id": "134bc7d6",
   "metadata": {},
   "outputs": [
    {
     "name": "stdout",
     "output_type": "stream",
     "text": [
      "0\n",
      "1\n",
      "2\n",
      "3\n",
      "4\n",
      "5\n",
      "6\n",
      "7\n",
      "8\n",
      "9\n"
     ]
    }
   ],
   "source": [
    "## RANGE\n",
    "\n",
    "for i in range(10):\n",
    "    print(i)"
   ]
  },
  {
   "cell_type": "code",
   "execution_count": 71,
   "id": "9a41b68e",
   "metadata": {},
   "outputs": [
    {
     "name": "stdout",
     "output_type": "stream",
     "text": [
      "2\n",
      "4\n",
      "6\n",
      "8\n"
     ]
    }
   ],
   "source": [
    "for i in range(2, 10, 2): #(start, end, skip)\n",
    "    print(i)"
   ]
  },
  {
   "cell_type": "code",
   "execution_count": 72,
   "id": "eaed043e",
   "metadata": {},
   "outputs": [
    {
     "name": "stdout",
     "output_type": "stream",
     "text": [
      "1 red\n",
      "-----\n",
      "1 blue\n",
      "-----\n",
      "1 green\n",
      "-----\n",
      "2 red\n",
      "-----\n",
      "2 blue\n",
      "-----\n",
      "2 green\n",
      "-----\n",
      "3 red\n",
      "-----\n",
      "3 blue\n",
      "-----\n",
      "3 green\n",
      "-----\n"
     ]
    }
   ],
   "source": [
    "##NESTED FOR LOOP\n",
    "\n",
    "lst1 = [1, 2, 3]\n",
    "lst2 = [\"red\", \"blue\", \"green\"]\n",
    "for i in lst1:\n",
    "    for j in lst2:\n",
    "        print(i, j)\n",
    "        print(\"-----\")"
   ]
  },
  {
   "cell_type": "code",
   "execution_count": 73,
   "id": "c5e46090",
   "metadata": {},
   "outputs": [
    {
     "name": "stdout",
     "output_type": "stream",
     "text": [
      "0\n",
      "1\n",
      "2\n",
      "3\n",
      "4\n"
     ]
    }
   ],
   "source": [
    "#BREAK AND CONTINUE \n",
    "for i in range(10):\n",
    "    if i==5:\n",
    "        break\n",
    "    print(i)"
   ]
  },
  {
   "cell_type": "code",
   "execution_count": 74,
   "id": "bb58ead2",
   "metadata": {},
   "outputs": [
    {
     "name": "stdout",
     "output_type": "stream",
     "text": [
      "0\n",
      "1\n",
      "2\n",
      "3\n",
      "4\n",
      "6\n",
      "7\n",
      "8\n",
      "9\n"
     ]
    }
   ],
   "source": [
    "for i in range(10):\n",
    "    if i==5:\n",
    "        continue\n",
    "    print(i)"
   ]
  },
  {
   "cell_type": "code",
   "execution_count": 75,
   "id": "f84ac199",
   "metadata": {},
   "outputs": [],
   "source": [
    "##pass\n",
    "\n",
    "for i in range(10):\n",
    "    pass"
   ]
  },
  {
   "cell_type": "code",
   "execution_count": 76,
   "id": "e8349915",
   "metadata": {},
   "outputs": [
    {
     "name": "stdout",
     "output_type": "stream",
     "text": [
      "[1, 4, 9, 16, 25]\n"
     ]
    }
   ],
   "source": [
    "lst1 = [1, 2, 3, 4, 5]\n",
    "lst2 = []\n",
    "\n",
    "for i in lst1:\n",
    "    lst2.append(i ** 2)\n",
    "\n",
    "print(lst2)\n",
    "\n"
   ]
  },
  {
   "cell_type": "markdown",
   "id": "e9276228",
   "metadata": {},
   "source": [
    "# WHILE LOOP\n",
    "### WORKS UNTIL CONDITION TRUE"
   ]
  },
  {
   "cell_type": "code",
   "execution_count": null,
   "id": "dab6a0c5",
   "metadata": {},
   "outputs": [
    {
     "name": "stdout",
     "output_type": "stream",
     "text": [
      "10\n",
      "9\n",
      "8\n",
      "7\n",
      "6\n",
      "5\n",
      "4\n",
      "3\n",
      "2\n",
      "1\n"
     ]
    }
   ],
   "source": [
    "i = 1      #starting is mandatorily given\n",
    "while i<=10:\n",
    "    print(i)\n",
    "    i+=1    #if not given it gets stuck in infinite loop"
   ]
  },
  {
   "cell_type": "code",
   "execution_count": 80,
   "id": "5d0dc11a",
   "metadata": {},
   "outputs": [
    {
     "name": "stdout",
     "output_type": "stream",
     "text": [
      "10\n",
      "9\n",
      "8\n",
      "7\n",
      "6\n",
      "5\n",
      "4\n",
      "3\n",
      "2\n",
      "1\n"
     ]
    }
   ],
   "source": [
    "i = 10\n",
    "while i >= 1:\n",
    "    print(i)\n",
    "    i -= 1\n"
   ]
  },
  {
   "cell_type": "code",
   "execution_count": 86,
   "id": "e5b52eda",
   "metadata": {},
   "outputs": [
    {
     "name": "stdout",
     "output_type": "stream",
     "text": [
      "1\n"
     ]
    }
   ],
   "source": [
    "i = 1\n",
    "while i <= 10:\n",
    "    print(i)\n",
    "    break\n",
    "    i += 1\n"
   ]
  },
  {
   "cell_type": "code",
   "execution_count": 87,
   "id": "0017e0d6",
   "metadata": {},
   "outputs": [],
   "source": [
    "i = 0\n",
    "while i < 5:\n",
    "    i += 1\n",
    "    continue\n",
    "    print(i)"
   ]
  },
  {
   "cell_type": "code",
   "execution_count": null,
   "id": "16165203",
   "metadata": {},
   "outputs": [
    {
     "name": "stdout",
     "output_type": "stream",
     "text": [
      "Sum = 55\n"
     ]
    }
   ],
   "source": [
    "i = 1\n",
    "j = 0\n",
    "while i <= 10:\n",
    "    j += i\n",
    "    i += 1\n",
    "print(\"Sum =\", j)\n"
   ]
  }
 ],
 "metadata": {
  "kernelspec": {
   "display_name": "Python 3",
   "language": "python",
   "name": "python3"
  },
  "language_info": {
   "codemirror_mode": {
    "name": "ipython",
    "version": 3
   },
   "file_extension": ".py",
   "mimetype": "text/x-python",
   "name": "python",
   "nbconvert_exporter": "python",
   "pygments_lexer": "ipython3",
   "version": "3.11.9"
  }
 },
 "nbformat": 4,
 "nbformat_minor": 5
}
