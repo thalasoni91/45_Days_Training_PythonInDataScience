{
 "cells": [
  {
   "cell_type": "markdown",
   "id": "b87a35aa",
   "metadata": {},
   "source": [
    "# LIST"
   ]
  },
  {
   "cell_type": "code",
   "execution_count": 248,
   "id": "191124ff",
   "metadata": {},
   "outputs": [
    {
     "name": "stdout",
     "output_type": "stream",
     "text": [
      "Hello World\n"
     ]
    }
   ],
   "source": [
    "print(\"Hello World\")"
   ]
  },
  {
   "cell_type": "markdown",
   "id": "be3beade",
   "metadata": {},
   "source": [
    "## list ---- ordered, mutable, allow duplicates, heterogenous, indexed"
   ]
  },
  {
   "cell_type": "markdown",
   "id": "bde2484e",
   "metadata": {},
   "source": [
    "### list - []"
   ]
  },
  {
   "cell_type": "code",
   "execution_count": 249,
   "id": "056da3b6",
   "metadata": {},
   "outputs": [
    {
     "name": "stdout",
     "output_type": "stream",
     "text": [
      "[1, 2, 'hello', True, 33.23, 'hello']\n",
      "<class 'list'>\n"
     ]
    }
   ],
   "source": [
    "lst = [1, 2, \"hello\", True, 33.23, \"hello\"]\n",
    "print(lst)\n",
    "print(type(lst))\n"
   ]
  },
  {
   "cell_type": "markdown",
   "id": "6fefdff1",
   "metadata": {},
   "source": [
    "### indexing and slicing"
   ]
  },
  {
   "cell_type": "code",
   "execution_count": 250,
   "id": "4f52b922",
   "metadata": {},
   "outputs": [
    {
     "name": "stdout",
     "output_type": "stream",
     "text": [
      "True\n",
      "33.23\n"
     ]
    }
   ],
   "source": [
    "lst = [1, 2, \"hello\", True, 33.23, \"hello\"]\n",
    "print(lst[3])\n",
    "print(lst[-2])"
   ]
  },
  {
   "cell_type": "code",
   "execution_count": 251,
   "id": "1077277e",
   "metadata": {},
   "outputs": [
    {
     "name": "stdout",
     "output_type": "stream",
     "text": [
      "[2, 'hello', True]\n",
      "[1, 2, 'hello']\n"
     ]
    }
   ],
   "source": [
    "lst = [1, 2, \"hello\", True, 33.23, \"hello\"]\n",
    "print(lst[1:4])\n",
    "print(lst[:-3])"
   ]
  },
  {
   "cell_type": "markdown",
   "id": "94dc9c1d",
   "metadata": {},
   "source": [
    "#### value access and update"
   ]
  },
  {
   "cell_type": "code",
   "execution_count": 252,
   "id": "0b0c08ac",
   "metadata": {},
   "outputs": [
    {
     "name": "stdout",
     "output_type": "stream",
     "text": [
      "[1, 2, 'world', True, 33.23, 'hello']\n"
     ]
    }
   ],
   "source": [
    "lst = [1, 2, \"hello\", True, 33.23, \"hello\"]\n",
    "lst[2] = \"world\"\n",
    "print(lst)"
   ]
  },
  {
   "cell_type": "code",
   "execution_count": 253,
   "id": "236b4caa",
   "metadata": {},
   "outputs": [
    {
     "name": "stdout",
     "output_type": "stream",
     "text": [
      "[10, 20, 2, 'hello', True, 33.23, 'hello']\n"
     ]
    }
   ],
   "source": [
    "# update multiple values\n",
    "lst = [1, 2, \"hello\", True, 33.23, \"hello\"]\n",
    "#lst[0:2] = [4, 5]\n",
    "#lst[0:2] = [10]\n",
    "#lst[-2:] = [66.78, \"world\"]\n",
    "#lst[-2:] = [\"world\"]\n",
    "lst[0:1] = [10, 20]\n",
    "print(lst)"
   ]
  },
  {
   "cell_type": "code",
   "execution_count": 254,
   "id": "6b8f8b4d",
   "metadata": {},
   "outputs": [
    {
     "name": "stdout",
     "output_type": "stream",
     "text": [
      "[10, 20, [30, 40, [50, 6000], 70], 80]\n"
     ]
    }
   ],
   "source": [
    "lst = [10, 20, [30, 40, [50, 60], 70], 80]\n",
    "lst[2][2][1] = 6000\n",
    "print(lst)"
   ]
  },
  {
   "cell_type": "markdown",
   "id": "846d0717",
   "metadata": {},
   "source": [
    "# methods"
   ]
  },
  {
   "cell_type": "code",
   "execution_count": 255,
   "id": "2dcf4ce7",
   "metadata": {},
   "outputs": [
    {
     "data": {
      "text/plain": [
       "[78, 44, 33, 12, 6, 2]"
      ]
     },
     "execution_count": 255,
     "metadata": {},
     "output_type": "execute_result"
    }
   ],
   "source": [
    "#lst = [1, 2, \"hello\", True, 33.23, \"hello\"]\n",
    "#lst.count(\"hello\")\n",
    "#lst.index(\"hello\")\n",
    "#lst2 = lst.copy()\n",
    "#lst2\n",
    "'''lst.clear()\n",
    "lst'''\n",
    "#del lst\n",
    "'''lst.insert(1, 2)# (index position, element to be inserted)''' \n",
    "#lst.append(22) #insert at the end\n",
    "#lst.extend([33, 44]) # multiple insert at the end\n",
    "#lst.remove(33.23)#delete particular element\n",
    "#lst.pop() #last element is removed/poped\n",
    "#lst.pop(1) #indexed elelment is poped\n",
    "#lst.reverse()\n",
    "lst = [2, 44, 6, 78, 33, 12]\n",
    "lst.sort()\n",
    "lst.sort(reverse = True)\n",
    "lst"
   ]
  },
  {
   "cell_type": "markdown",
   "id": "4439440f",
   "metadata": {},
   "source": [
    "### reverse list using slicing"
   ]
  },
  {
   "cell_type": "code",
   "execution_count": 256,
   "id": "79d29d93",
   "metadata": {},
   "outputs": [
    {
     "name": "stdout",
     "output_type": "stream",
     "text": [
      "[5, 4, 3, 2, 1]\n"
     ]
    }
   ],
   "source": [
    "lst = [1, 2, 3, 4, 5]\n",
    "lst2 = lst[::-1]\n",
    "print(lst2)\n"
   ]
  }
 ],
 "metadata": {
  "kernelspec": {
   "display_name": "Python 3",
   "language": "python",
   "name": "python3"
  },
  "language_info": {
   "codemirror_mode": {
    "name": "ipython",
    "version": 3
   },
   "file_extension": ".py",
   "mimetype": "text/x-python",
   "name": "python",
   "nbconvert_exporter": "python",
   "pygments_lexer": "ipython3",
   "version": "3.11.9"
  }
 },
 "nbformat": 4,
 "nbformat_minor": 5
}
