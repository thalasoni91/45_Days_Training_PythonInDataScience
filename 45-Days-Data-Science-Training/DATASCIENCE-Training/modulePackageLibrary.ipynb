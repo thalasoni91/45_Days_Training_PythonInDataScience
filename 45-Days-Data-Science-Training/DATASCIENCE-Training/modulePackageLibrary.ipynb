{
 "cells": [
  {
   "cell_type": "markdown",
   "id": "86f4e778",
   "metadata": {},
   "source": [
    "### MODULES\n",
    "##### kisi or ka likha code jo apna kam krne aap use kare in a file (.py)  \n",
    "##### to reuse ur code when needed w/o rewriting it in different programs\n",
    "\n",
    "TYPES OF MODULES:\n",
    "1. BUILT-IN MODULES -- ALREADY BANE HOTE H (OS, DATETIME, RE (REGULAR EXPRESSION), MATH)\n",
    "2. THIRD-PARTY MODULES -- KISI OR NE BANAYI H PR PYTHON NE USE ME LELI (PANDAS, NUMPY)\n",
    "3. USER-DEFINED MODULES "
   ]
  },
  {
   "cell_type": "markdown",
   "id": "fb1634e3",
   "metadata": {},
   "source": [
    "### PACKAGE\n",
    "folder jisme multiple modules hote h"
   ]
  },
  {
   "cell_type": "markdown",
   "id": "9fb94611",
   "metadata": {},
   "source": [
    "### LIBRARY\n",
    "modules or package ka combo"
   ]
  },
  {
   "cell_type": "code",
   "execution_count": null,
   "id": "d7d87103",
   "metadata": {},
   "outputs": [],
   "source": [
    "# import os // used in order to import all the function in module\n",
    "# from os import path // used in order to select a particular function from a module"
   ]
  },
  {
   "cell_type": "code",
   "execution_count": null,
   "id": "7d97b5a3",
   "metadata": {},
   "outputs": [
    {
     "name": "stdout",
     "output_type": "stream",
     "text": [
      "5\n"
     ]
    }
   ],
   "source": [
    "## USER DEFINED MODULES\n",
    "### imported from basic.py (only .py extension files are used to create module) using __init__.py (no info inside it just to initialize a module it is made)\n",
    "\n",
    "from basic import addfunction\n",
    "\n",
    "print(addfunction(2,3))"
   ]
  }
 ],
 "metadata": {
  "kernelspec": {
   "display_name": "Python 3",
   "language": "python",
   "name": "python3"
  },
  "language_info": {
   "codemirror_mode": {
    "name": "ipython",
    "version": 3
   },
   "file_extension": ".py",
   "mimetype": "text/x-python",
   "name": "python",
   "nbconvert_exporter": "python",
   "pygments_lexer": "ipython3",
   "version": "3.11.9"
  }
 },
 "nbformat": 4,
 "nbformat_minor": 5
}
