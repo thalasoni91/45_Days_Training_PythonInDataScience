{
 "cells": [
  {
   "cell_type": "markdown",
   "id": "563e5bef",
   "metadata": {},
   "source": [
    "## CLASS, OBJECT, METHODS\n",
    "\n",
    "#### 4 TYPES OF OOPS\n",
    "INHERITENCE  --  \n",
    "POLYMORPHISM  \n",
    "ABSTRACTION    \n",
    "ENCAPSULATION"
   ]
  },
  {
   "cell_type": "markdown",
   "id": "5a80164d",
   "metadata": {},
   "source": [
    "CLASS : BLUEPRINT OF AN OBJECT    \n",
    "OBJECT : INSTANCE OF A CLASS"
   ]
  },
  {
   "cell_type": "code",
   "execution_count": 60,
   "id": "1567f718",
   "metadata": {},
   "outputs": [
    {
     "data": {
      "text/plain": [
       "('abc', 'xyz')"
      ]
     },
     "execution_count": 60,
     "metadata": {},
     "output_type": "execute_result"
    }
   ],
   "source": [
    "class car: \n",
    "    #class variable\n",
    "    num1 = 10\n",
    "    num2 = 20\n",
    "    name = \"abc\"\n",
    "    mode1 = \"xyz\"\n",
    "    \n",
    "    #self\n",
    "    def add(self):   ## class k andr hi variables ko access karane k liye self use kiya\n",
    "        return self.num1 + self.num2\n",
    "    \n",
    "    def display(self):\n",
    "        return self.name , self.mode1\n",
    "    \n",
    "obj = car()\n",
    "obj.display()\n",
    "#obj.add()"
   ]
  },
  {
   "cell_type": "code",
   "execution_count": 61,
   "id": "c3df57cf",
   "metadata": {},
   "outputs": [
    {
     "data": {
      "text/plain": [
       "('Lion', 10)"
      ]
     },
     "execution_count": 61,
     "metadata": {},
     "output_type": "execute_result"
    }
   ],
   "source": [
    "## CONSTRUCTOR  -- init  --  initialize te variable\n",
    "\n",
    "class animal:\n",
    "    def __init__(self, name, age):\n",
    "        self.name = name   ##self.name ka name use kiya taaki user ki value isme le sake or name dusra wala use kiya parameter k taur pe\n",
    "        self.age = age\n",
    "        \n",
    "    def display(self):\n",
    "        return self.name, self.age\n",
    "\n",
    "obj = animal(\"Lion\", 10)\n",
    "obj.display()"
   ]
  },
  {
   "cell_type": "markdown",
   "id": "d922b2ad",
   "metadata": {},
   "source": [
    "### INHERITANCE  --  Single, multiple, multilevel, hierarchical, hybrid"
   ]
  },
  {
   "cell_type": "code",
   "execution_count": 62,
   "id": "69cd2139",
   "metadata": {},
   "outputs": [
    {
     "name": "stdout",
     "output_type": "stream",
     "text": [
      "car\n",
      "bike\n"
     ]
    }
   ],
   "source": [
    "# SINGLE INHERITANCE\n",
    "# one child inherits from one parent\n",
    "\n",
    "class car:\n",
    "    def display(self):\n",
    "        return \"car\"\n",
    "class bike(car):  ## (car) added in order to inherit from class car to class bike\n",
    "    def show(self):\n",
    "        return \"bike\"\n",
    "    \n",
    "obj = bike()\n",
    "print(obj.display())\n",
    "print(obj.show())"
   ]
  },
  {
   "cell_type": "code",
   "execution_count": 63,
   "id": "014b45eb",
   "metadata": {},
   "outputs": [
    {
     "data": {
      "text/plain": [
       "'abc'"
      ]
     },
     "execution_count": 63,
     "metadata": {},
     "output_type": "execute_result"
    }
   ],
   "source": [
    "class person:\n",
    "    def __init__(self, name):\n",
    "        self.name = name\n",
    "        \n",
    "    def show(self):\n",
    "        return self.name\n",
    "        \n",
    "class employee(person):\n",
    "    def __init__(self, name, salary):\n",
    "        super().__init__(name)   ## super keyword is used to access the method or property from parent class\n",
    "        self.salary = salary\n",
    "        \n",
    "obj = employee(\"abc\", 100000)\n",
    "obj.show()"
   ]
  },
  {
   "cell_type": "code",
   "execution_count": 64,
   "id": "c660fd88",
   "metadata": {},
   "outputs": [
    {
     "name": "stdout",
     "output_type": "stream",
     "text": [
      "Alice\n",
      "50000\n",
      "1234567890\n"
     ]
    }
   ],
   "source": [
    "### MULTIPLE INHERITANCE\n",
    "# multiple parent inherited by a single child\n",
    "\n",
    "class person:\n",
    "    def __init__(self, name):\n",
    "        self.name = name\n",
    "        \n",
    "    def show(self):\n",
    "        return self.name\n",
    "        \n",
    "class employee(person):\n",
    "    def __init__(self, name, salary):\n",
    "        super().__init__(name)   ## super keyword is used to access the method or property from parent class\n",
    "        self.salary = salary\n",
    "        \n",
    "class job:\n",
    "    def __init__(self, phone_no):\n",
    "        self.phone_no = phone_no\n",
    "        \n",
    "class employeePersonJob(employee, job):\n",
    "    def __init__(self, name, salary, phone_no):\n",
    "        employee.__init__(self, name, salary)   ## to access a class using super computer doesn't know which class to access so in order to specify this we have different syntax in the multiple inheritance where we use name of particular class which want to access rather then using super keyword\n",
    "        job.__init__(self, phone_no)\n",
    "\n",
    "obj = employeePersonJob(\"Alice\", 50000, \"1234567890\")\n",
    "print(obj.name)\n",
    "print(obj.salary)\n",
    "print(obj.phone_no)\n"
   ]
  },
  {
   "cell_type": "code",
   "execution_count": 65,
   "id": "20f7b111",
   "metadata": {},
   "outputs": [],
   "source": [
    "## MULTILEVEL INHERITANCE\n",
    "# "
   ]
  },
  {
   "cell_type": "code",
   "execution_count": null,
   "id": "961a2f02",
   "metadata": {},
   "outputs": [],
   "source": []
  },
  {
   "cell_type": "code",
   "execution_count": null,
   "id": "777ba6d8",
   "metadata": {},
   "outputs": [],
   "source": []
  },
  {
   "cell_type": "markdown",
   "id": "f5a66484",
   "metadata": {},
   "source": [
    "## POLYMORPHISM   -- many forms  ---- same function method behave differently based on the input ----  eg.- print function, len function"
   ]
  },
  {
   "cell_type": "code",
   "execution_count": 66,
   "id": "3d90bec4",
   "metadata": {},
   "outputs": [
    {
     "name": "stdout",
     "output_type": "stream",
     "text": [
      "Bark\n",
      "Meow\n"
     ]
    }
   ],
   "source": [
    "class Cat:\n",
    "    def sound(self):\n",
    "        return \"Meow\"\n",
    "\n",
    "class Dog:\n",
    "    def sound(self):\n",
    "        return \"Bark\"\n",
    "\n",
    "# Polymorphism\n",
    "def make_sound(animal):\n",
    "    return animal.sound()\n",
    "\n",
    "cat = Dog()\n",
    "dog = Cat()\n",
    "\n",
    "print(make_sound(cat)) \n",
    "print(make_sound(dog))  \n"
   ]
  },
  {
   "cell_type": "code",
   "execution_count": 67,
   "id": "a569d7a2",
   "metadata": {},
   "outputs": [
    {
     "name": "stdout",
     "output_type": "stream",
     "text": [
      "314.0\n",
      "8\n"
     ]
    }
   ],
   "source": [
    "class Circle:\n",
    "    def __init__(self, radius):\n",
    "        self.radius = radius\n",
    "    \n",
    "    def area(self):\n",
    "        return 3.14 * self.radius * self.radius\n",
    "\n",
    "class Rectangle():\n",
    "    def __init__(self, length, breadth):\n",
    "        self.length = length\n",
    "        self.breadth = breadth\n",
    "        \n",
    "    def area(self):\n",
    "        return self.length * self.breadth\n",
    "    \n",
    "def calc_area(shape):\n",
    "    print(shape.area())\n",
    "\n",
    "circle = Circle(10)\n",
    "rectangle = Rectangle(2, 4)\n",
    "\n",
    "calc_area(circle)\n",
    "calc_area(rectangle)"
   ]
  },
  {
   "cell_type": "markdown",
   "id": "3923a199",
   "metadata": {},
   "source": [
    "### ENCAPSULATION\n",
    "it means hiding the internal details (methods and properties) of the class and protecting data from being accessed or modified directly by the outside world     \n",
    "we can do it by using private and protected variable\n",
    "\n",
    "##### private variable -- __name  \n",
    "cannot be accessed outside the class\n",
    "\n",
    "##### protected variable -- _name    \n",
    "it can be accessed inside the class and its subclasses"
   ]
  },
  {
   "cell_type": "code",
   "execution_count": 70,
   "id": "87e2c9d5",
   "metadata": {},
   "outputs": [
    {
     "name": "stdout",
     "output_type": "stream",
     "text": [
      "Thala\n",
      "95\n",
      "100\n",
      "Invalid marks\n"
     ]
    },
    {
     "data": {
      "text/plain": [
       "100"
      ]
     },
     "execution_count": 70,
     "metadata": {},
     "output_type": "execute_result"
    }
   ],
   "source": [
    "class student:\n",
    "    def __init__(self, name, marks):\n",
    "        self.name = name\n",
    "        self.__marks = marks\n",
    "        \n",
    "    def get_marks(self):\n",
    "        return self.__marks\n",
    "    \n",
    "    def set_marks(self, marks):\n",
    "        if 0 <= marks <= 100:\n",
    "            self.__marks = marks\n",
    "        else:\n",
    "            print(\"Invalid marks\")\n",
    "            \n",
    "s = student(\"Thala\", 95)\n",
    "\n",
    "print(s.name) \n",
    "print(s.get_marks())\n",
    "\n",
    "s.set_marks(100)\n",
    "print(s.get_marks()) \n",
    "\n",
    "s.set_marks(150)  \n",
    "\n",
    "#another method using - name mangling\n",
    "\n",
    "s._student__marks"
   ]
  }
 ],
 "metadata": {
  "kernelspec": {
   "display_name": "Python 3",
   "language": "python",
   "name": "python3"
  },
  "language_info": {
   "codemirror_mode": {
    "name": "ipython",
    "version": 3
   },
   "file_extension": ".py",
   "mimetype": "text/x-python",
   "name": "python",
   "nbconvert_exporter": "python",
   "pygments_lexer": "ipython3",
   "version": "3.11.9"
  }
 },
 "nbformat": 4,
 "nbformat_minor": 5
}
