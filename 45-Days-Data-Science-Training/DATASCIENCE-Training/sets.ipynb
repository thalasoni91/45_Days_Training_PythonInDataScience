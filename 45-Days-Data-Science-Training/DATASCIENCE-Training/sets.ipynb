{
 "cells": [
  {
   "cell_type": "markdown",
   "id": "0512f560",
   "metadata": {},
   "source": [
    "## SETS - denoted using {}\n",
    "## unordered, unindexed, "
   ]
  },
  {
   "cell_type": "code",
   "execution_count": 211,
   "id": "dfaa8537",
   "metadata": {},
   "outputs": [
    {
     "name": "stdout",
     "output_type": "stream",
     "text": [
      "{1, 2, 'hello'}\n",
      "<class 'set'>\n"
     ]
    }
   ],
   "source": [
    "st = {1, 2, \"hello\", True, \"hello\"}\n",
    "print(st) # true not printed due to the mathematic nature of the sets as it considers True to be 1, so if we remove 1 and then print true it will print true\n",
    "print(type(st))"
   ]
  },
  {
   "cell_type": "markdown",
   "id": "89732cac",
   "metadata": {},
   "source": [
    "#### METHODS"
   ]
  },
  {
   "cell_type": "code",
   "execution_count": 212,
   "id": "c57a3305",
   "metadata": {},
   "outputs": [
    {
     "name": "stdout",
     "output_type": "stream",
     "text": [
      "{'pyhton', 1, 2, 'hello'}\n"
     ]
    }
   ],
   "source": [
    "st.add(\"pyhton\")\n",
    "print(st)"
   ]
  },
  {
   "cell_type": "code",
   "execution_count": 213,
   "id": "c25f2113",
   "metadata": {},
   "outputs": [
    {
     "name": "stdout",
     "output_type": "stream",
     "text": [
      "{1, 2, 3, 4, 5, 'hello', 'pyhton'}\n"
     ]
    }
   ],
   "source": [
    "st.update([1,2,3,4,5]) #add multiple values\n",
    "print(st)"
   ]
  },
  {
   "cell_type": "code",
   "execution_count": 214,
   "id": "469ac793",
   "metadata": {},
   "outputs": [
    {
     "name": "stdout",
     "output_type": "stream",
     "text": [
      "{1, 2, 3, 4, 5, 'pyhton'}\n"
     ]
    }
   ],
   "source": [
    "st.remove(\"hello\")\n",
    "print(st)"
   ]
  },
  {
   "cell_type": "code",
   "execution_count": 215,
   "id": "99763eba",
   "metadata": {},
   "outputs": [
    {
     "name": "stdout",
     "output_type": "stream",
     "text": [
      "{2, 3, 4, 5, 'pyhton'}\n"
     ]
    }
   ],
   "source": [
    "st.pop()\n",
    "print(st)"
   ]
  },
  {
   "cell_type": "code",
   "execution_count": 216,
   "id": "136d3f54",
   "metadata": {},
   "outputs": [
    {
     "name": "stdout",
     "output_type": "stream",
     "text": [
      "{2, 3, 4, 'pyhton'}\n"
     ]
    }
   ],
   "source": [
    "st.discard(5)\n",
    "print(st)"
   ]
  },
  {
   "cell_type": "markdown",
   "id": "430df07e",
   "metadata": {},
   "source": [
    "#### MATHEMATICAL METHODS"
   ]
  },
  {
   "cell_type": "code",
   "execution_count": 217,
   "id": "614e9236",
   "metadata": {},
   "outputs": [],
   "source": [
    "a = {1, 2, 3}\n",
    "b = {3, 4, 5}"
   ]
  },
  {
   "cell_type": "code",
   "execution_count": 218,
   "id": "fce3b295",
   "metadata": {},
   "outputs": [
    {
     "name": "stdout",
     "output_type": "stream",
     "text": [
      "{1, 2, 3, 4, 5}\n"
     ]
    }
   ],
   "source": [
    "print(a.union(b))"
   ]
  },
  {
   "cell_type": "code",
   "execution_count": 219,
   "id": "6c904716",
   "metadata": {},
   "outputs": [
    {
     "name": "stdout",
     "output_type": "stream",
     "text": [
      "{3}\n"
     ]
    }
   ],
   "source": [
    "print(a.intersection(b))"
   ]
  },
  {
   "cell_type": "code",
   "execution_count": 220,
   "id": "b1b23c88",
   "metadata": {},
   "outputs": [
    {
     "name": "stdout",
     "output_type": "stream",
     "text": [
      "{1, 2}\n"
     ]
    }
   ],
   "source": [
    "print(a.difference(b)) #returns elements of a which are not in b"
   ]
  },
  {
   "cell_type": "code",
   "execution_count": 221,
   "id": "28907729",
   "metadata": {},
   "outputs": [
    {
     "name": "stdout",
     "output_type": "stream",
     "text": [
      "False\n"
     ]
    }
   ],
   "source": [
    "#disjoint // checks if there are no common elements in sets then returns true else false\n",
    "print(a.isdisjoint(b))"
   ]
  },
  {
   "cell_type": "code",
   "execution_count": 222,
   "id": "f4bd3463",
   "metadata": {},
   "outputs": [
    {
     "name": "stdout",
     "output_type": "stream",
     "text": [
      "{1, 2, 4, 5}\n"
     ]
    }
   ],
   "source": [
    "print(a.symmetric_difference(b)) #return elements of either but not both"
   ]
  },
  {
   "cell_type": "code",
   "execution_count": 223,
   "id": "62b9fe09",
   "metadata": {},
   "outputs": [
    {
     "name": "stdout",
     "output_type": "stream",
     "text": [
      "False\n"
     ]
    }
   ],
   "source": [
    "#subset // check if all the elements of one set are in another\n",
    "print(a.issubset(b))\n"
   ]
  },
  {
   "cell_type": "code",
   "execution_count": 224,
   "id": "50c101a4",
   "metadata": {},
   "outputs": [
    {
     "name": "stdout",
     "output_type": "stream",
     "text": [
      "False\n"
     ]
    }
   ],
   "source": [
    "#superset // checks if one set contains all the element of another\n",
    "print(a.issuperset(b))"
   ]
  },
  {
   "cell_type": "code",
   "execution_count": 225,
   "id": "5b2b13a9",
   "metadata": {},
   "outputs": [
    {
     "name": "stdout",
     "output_type": "stream",
     "text": [
      "{3}\n",
      "{3, 4, 5}\n"
     ]
    }
   ],
   "source": [
    "##intersection update\n",
    "a.intersection_update(b) # intersection ka answer nikal k a me dal diya\n",
    "print(a)\n",
    "print(b)"
   ]
  },
  {
   "cell_type": "code",
   "execution_count": 226,
   "id": "b7a410ce",
   "metadata": {},
   "outputs": [
    {
     "name": "stdout",
     "output_type": "stream",
     "text": [
      "{1, 2}\n",
      "{3, 4, 5}\n"
     ]
    }
   ],
   "source": [
    "a = {1, 2, 3}\n",
    "b = {3, 4, 5}\n",
    "a.difference_update(b)\n",
    "print(a)\n",
    "print(b)"
   ]
  },
  {
   "cell_type": "code",
   "execution_count": 227,
   "id": "78f9fe1b",
   "metadata": {},
   "outputs": [
    {
     "name": "stdout",
     "output_type": "stream",
     "text": [
      "{1, 2, 4, 5}\n",
      "{3, 4, 5}\n"
     ]
    }
   ],
   "source": [
    "a = {1, 2, 3}\n",
    "b = {3, 4, 5}\n",
    "a.symmetric_difference_update(b)\n",
    "print(a)\n",
    "print(b)"
   ]
  },
  {
   "cell_type": "code",
   "execution_count": 1,
   "id": "f19ece6d",
   "metadata": {},
   "outputs": [
    {
     "name": "stdout",
     "output_type": "stream",
     "text": [
      "200\n"
     ]
    }
   ],
   "source": [
    "x = 300\n",
    "def myfunc():\n",
    "  global x\n",
    "  x = 200\n",
    "myfunc()\n",
    "print(x)"
   ]
  }
 ],
 "metadata": {
  "kernelspec": {
   "display_name": "Python 3",
   "language": "python",
   "name": "python3"
  },
  "language_info": {
   "codemirror_mode": {
    "name": "ipython",
    "version": 3
   },
   "file_extension": ".py",
   "mimetype": "text/x-python",
   "name": "python",
   "nbconvert_exporter": "python",
   "pygments_lexer": "ipython3",
   "version": "3.11.9"
  }
 },
 "nbformat": 4,
 "nbformat_minor": 5
}
