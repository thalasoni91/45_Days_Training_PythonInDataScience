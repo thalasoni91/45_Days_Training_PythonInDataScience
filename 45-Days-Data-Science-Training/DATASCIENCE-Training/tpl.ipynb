{
 "cells": [
  {
   "cell_type": "markdown",
   "id": "bfbe7385",
   "metadata": {},
   "source": [
    "## tpl == ordered, immutable, allows duplicates, heterogenous, allows slicing and indexing"
   ]
  },
  {
   "cell_type": "code",
   "execution_count": null,
   "id": "385d7f5a",
   "metadata": {},
   "outputs": [
    {
     "name": "stdout",
     "output_type": "stream",
     "text": [
      "('red', 'blue', 'green', 'black', 1, 2, 3, 3)\n",
      "<class 'tuple'>\n"
     ]
    }
   ],
   "source": [
    "tpl = (\"red\", \"blue\", \"green\", \"black\", 1, 2, 3, 3)\n",
    "print(tpl)\n",
    "print(type(tpl))"
   ]
  },
  {
   "cell_type": "code",
   "execution_count": 5,
   "id": "99a05eb9",
   "metadata": {},
   "outputs": [
    {
     "data": {
      "text/plain": [
       "2"
      ]
     },
     "execution_count": 5,
     "metadata": {},
     "output_type": "execute_result"
    }
   ],
   "source": [
    "tpl.count(3)"
   ]
  },
  {
   "cell_type": "code",
   "execution_count": 6,
   "id": "08f3a8f5",
   "metadata": {},
   "outputs": [
    {
     "data": {
      "text/plain": [
       "6"
      ]
     },
     "execution_count": 6,
     "metadata": {},
     "output_type": "execute_result"
    }
   ],
   "source": [
    "tpl.index(3)"
   ]
  },
  {
   "cell_type": "code",
   "execution_count": null,
   "id": "517fc37f",
   "metadata": {},
   "outputs": [],
   "source": [
    "## changes in tuple how to do if it is immutable\n",
    "#  - change to list, modify, convert back"
   ]
  },
  {
   "cell_type": "code",
   "execution_count": null,
   "id": "f1a66116",
   "metadata": {},
   "outputs": [],
   "source": [
    "tpl = (1, 2, 3, 4, 5)\n",
    "tpl = list(tpl)\n",
    "temp[0] = 10\n",
    "t = tuple(temp)\n",
    "print(t)\n"
   ]
  }
 ],
 "metadata": {
  "kernelspec": {
   "display_name": "Python 3",
   "language": "python",
   "name": "python3"
  },
  "language_info": {
   "codemirror_mode": {
    "name": "ipython",
    "version": 3
   },
   "file_extension": ".py",
   "mimetype": "text/x-python",
   "name": "python",
   "nbconvert_exporter": "python",
   "pygments_lexer": "ipython3",
   "version": "3.11.9"
  }
 },
 "nbformat": 4,
 "nbformat_minor": 5
}
